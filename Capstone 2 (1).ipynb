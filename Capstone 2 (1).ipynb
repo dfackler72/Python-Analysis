{
 "cells": [
  {
   "cell_type": "markdown",
   "id": "8c7f82f8",
   "metadata": {},
   "source": [
    "# Library Import "
   ]
  },
  {
   "cell_type": "code",
   "execution_count": 1,
   "id": "981238a1",
   "metadata": {},
   "outputs": [],
   "source": [
    "import numpy as np\n",
    "import matplotlib.pyplot as plt\n",
    "import seaborn as sns\n",
    "import pandas as pd"
   ]
  },
  {
   "cell_type": "markdown",
   "id": "a96dd5ee",
   "metadata": {},
   "source": [
    "# Questions"
   ]
  },
  {
   "cell_type": "markdown",
   "id": "0cb256e6",
   "metadata": {},
   "source": [
    "Does education level affect buying decisions and if so how?    \n",
    "Does marital status affect buying decisions and if so how?  \n",
    "Does income level affect buying decisions and if so how?  \n",
    "Does having children affect buying decisions and if so how?  \n",
    "Does age affect buying decisions and if so how?  \n",
    "Do discounts affect buying decisions and if so how?  "
   ]
  },
  {
   "cell_type": "markdown",
   "id": "8572e2bb",
   "metadata": {},
   "source": [
    "# Data Cleansing"
   ]
  },
  {
   "cell_type": "code",
   "execution_count": 2,
   "id": "1cfbd93b",
   "metadata": {},
   "outputs": [],
   "source": [
    "df_cust = pd.read_csv(r'C:\\Users\\admin\\Documents\\Springboard\\train.csv')"
   ]
  },
  {
   "cell_type": "code",
   "execution_count": 3,
   "id": "c2345225",
   "metadata": {},
   "outputs": [],
   "source": [
    "df_cust = pd.read_csv(r'C:\\Users\\admin\\Documents\\Springboard\\Capstone 2 Dataset - Customer Personality.csv', sep='\\t')"
   ]
  },
  {
   "cell_type": "markdown",
   "id": "280eac7f",
   "metadata": {},
   "source": [
    "# See what data is in the dataset and how it's stored"
   ]
  },
  {
   "cell_type": "code",
   "execution_count": 4,
   "id": "1bc0504d",
   "metadata": {},
   "outputs": [
    {
     "data": {
      "text/plain": [
       "<bound method NDFrame.describe of          ID  Year_Birth   Education Marital_Status   Income  Kidhome  \\\n",
       "0      5524        1957  Graduation         Single  58138.0        0   \n",
       "1      2174        1954  Graduation         Single  46344.0        1   \n",
       "2      4141        1965  Graduation       Together  71613.0        0   \n",
       "3      6182        1984  Graduation       Together  26646.0        1   \n",
       "4      5324        1981         PhD        Married  58293.0        1   \n",
       "...     ...         ...         ...            ...      ...      ...   \n",
       "2235  10870        1967  Graduation        Married  61223.0        0   \n",
       "2236   4001        1946         PhD       Together  64014.0        2   \n",
       "2237   7270        1981  Graduation       Divorced  56981.0        0   \n",
       "2238   8235        1956      Master       Together  69245.0        0   \n",
       "2239   9405        1954         PhD        Married  52869.0        1   \n",
       "\n",
       "      Teenhome Dt_Customer  Recency  MntWines  ...  NumWebVisitsMonth  \\\n",
       "0            0  04-09-2012       58       635  ...                  7   \n",
       "1            1  08-03-2014       38        11  ...                  5   \n",
       "2            0  21-08-2013       26       426  ...                  4   \n",
       "3            0  10-02-2014       26        11  ...                  6   \n",
       "4            0  19-01-2014       94       173  ...                  5   \n",
       "...        ...         ...      ...       ...  ...                ...   \n",
       "2235         1  13-06-2013       46       709  ...                  5   \n",
       "2236         1  10-06-2014       56       406  ...                  7   \n",
       "2237         0  25-01-2014       91       908  ...                  6   \n",
       "2238         1  24-01-2014        8       428  ...                  3   \n",
       "2239         1  15-10-2012       40        84  ...                  7   \n",
       "\n",
       "      AcceptedCmp3  AcceptedCmp4  AcceptedCmp5  AcceptedCmp1  AcceptedCmp2  \\\n",
       "0                0             0             0             0             0   \n",
       "1                0             0             0             0             0   \n",
       "2                0             0             0             0             0   \n",
       "3                0             0             0             0             0   \n",
       "4                0             0             0             0             0   \n",
       "...            ...           ...           ...           ...           ...   \n",
       "2235             0             0             0             0             0   \n",
       "2236             0             0             0             1             0   \n",
       "2237             0             1             0             0             0   \n",
       "2238             0             0             0             0             0   \n",
       "2239             0             0             0             0             0   \n",
       "\n",
       "      Complain  Z_CostContact  Z_Revenue  Response  \n",
       "0            0              3         11         1  \n",
       "1            0              3         11         0  \n",
       "2            0              3         11         0  \n",
       "3            0              3         11         0  \n",
       "4            0              3         11         0  \n",
       "...        ...            ...        ...       ...  \n",
       "2235         0              3         11         0  \n",
       "2236         0              3         11         0  \n",
       "2237         0              3         11         0  \n",
       "2238         0              3         11         0  \n",
       "2239         0              3         11         1  \n",
       "\n",
       "[2240 rows x 29 columns]>"
      ]
     },
     "execution_count": 4,
     "metadata": {},
     "output_type": "execute_result"
    }
   ],
   "source": [
    "df_cust.describe"
   ]
  },
  {
   "cell_type": "markdown",
   "id": "d2f2069a",
   "metadata": {},
   "source": [
    "# Attributes Descriptions\n",
    "\n",
    "People\n",
    "\n",
    "ID: Customer's unique identifier  \n",
    "Year_Birth: Customer's birth year  \n",
    "Education: Customer's education level  \n",
    "Marital_Status: Customer's marital status  \n",
    "Income: Customer's yearly household income  \n",
    "Kidhome: Number of children in customer's household  \n",
    "Teenhome: Number of teenagers in customer's household  \n",
    "Dt_Customer: Date of customer's enrollment with the company  \n",
    "Recency: Number of days since customer's last purchase  \n",
    "Complain: 1 if the customer complained in the last 2 years, 0 otherwise  \n",
    "  \n",
    "Products  \n",
    "  \n",
    "MntWines: Amount spent on wine in last 2 years  \n",
    "MntFruits: Amount spent on fruits in last 2 years  \n",
    "MntMeatProducts: Amount spent on meat in last 2 years  \n",
    "MntFishProducts: Amount spent on fish in last 2 years  \n",
    "MntSweetProducts: Amount spent on sweets in last 2 years  \n",
    "MntGoldProds: Amount spent on gold in last 2 years  \n",
    "  \n",
    "Promotion\n",
    "  \n",
    "NumDealsPurchases: Number of purchases made with a discount  \n",
    "AcceptedCmp1: 1 if customer accepted the offer in the 1st campaign, 0 otherwise  \n",
    "AcceptedCmp2: 1 if customer accepted the offer in the 2nd campaign, 0 otherwise  \n",
    "AcceptedCmp3: 1 if customer accepted the offer in the 3rd campaign, 0 otherwise  \n",
    "AcceptedCmp4: 1 if customer accepted the offer in the 4th campaign, 0 otherwise  \n",
    "AcceptedCmp5: 1 if customer accepted the offer in the 5th campaign, 0 otherwise  \n",
    "  \n",
    "Response: 1 if customer accepted the offer in the last campaign, 0 otherwise  \n",
    "  \n",
    "Place  \n",
    "  \n",
    "NumWebPurchases: Number of purchases made through the company’s website  \n",
    "NumCatalogPurchases: Number of purchases made using a catalogue  \n",
    "NumStorePurchases: Number of purchases made directly in stores  \n",
    "NumWebVisitsMonth: Number of visits to company’s website in the last month"
   ]
  },
  {
   "cell_type": "markdown",
   "id": "43e09fb9",
   "metadata": {},
   "source": [
    "# Remove rows with missing data"
   ]
  },
  {
   "cell_type": "code",
   "execution_count": 5,
   "id": "fab505a6",
   "metadata": {},
   "outputs": [
    {
     "data": {
      "text/plain": [
       "ID                      0\n",
       "Year_Birth              0\n",
       "Education               0\n",
       "Marital_Status          0\n",
       "Income                 24\n",
       "Kidhome                 0\n",
       "Teenhome                0\n",
       "Dt_Customer             0\n",
       "Recency                 0\n",
       "MntWines                0\n",
       "MntFruits               0\n",
       "MntMeatProducts         0\n",
       "MntFishProducts         0\n",
       "MntSweetProducts        0\n",
       "MntGoldProds            0\n",
       "NumDealsPurchases       0\n",
       "NumWebPurchases         0\n",
       "NumCatalogPurchases     0\n",
       "NumStorePurchases       0\n",
       "NumWebVisitsMonth       0\n",
       "AcceptedCmp3            0\n",
       "AcceptedCmp4            0\n",
       "AcceptedCmp5            0\n",
       "AcceptedCmp1            0\n",
       "AcceptedCmp2            0\n",
       "Complain                0\n",
       "Z_CostContact           0\n",
       "Z_Revenue               0\n",
       "Response                0\n",
       "dtype: int64"
      ]
     },
     "execution_count": 5,
     "metadata": {},
     "output_type": "execute_result"
    }
   ],
   "source": [
    "df_cust.isnull().sum()"
   ]
  },
  {
   "cell_type": "code",
   "execution_count": 6,
   "id": "d03175a2",
   "metadata": {},
   "outputs": [],
   "source": [
    "df_cust.dropna(subset=['Income'],inplace=True)"
   ]
  },
  {
   "cell_type": "code",
   "execution_count": 7,
   "id": "2fb17f51",
   "metadata": {},
   "outputs": [
    {
     "data": {
      "text/plain": [
       "ID                     0\n",
       "Year_Birth             0\n",
       "Education              0\n",
       "Marital_Status         0\n",
       "Income                 0\n",
       "Kidhome                0\n",
       "Teenhome               0\n",
       "Dt_Customer            0\n",
       "Recency                0\n",
       "MntWines               0\n",
       "MntFruits              0\n",
       "MntMeatProducts        0\n",
       "MntFishProducts        0\n",
       "MntSweetProducts       0\n",
       "MntGoldProds           0\n",
       "NumDealsPurchases      0\n",
       "NumWebPurchases        0\n",
       "NumCatalogPurchases    0\n",
       "NumStorePurchases      0\n",
       "NumWebVisitsMonth      0\n",
       "AcceptedCmp3           0\n",
       "AcceptedCmp4           0\n",
       "AcceptedCmp5           0\n",
       "AcceptedCmp1           0\n",
       "AcceptedCmp2           0\n",
       "Complain               0\n",
       "Z_CostContact          0\n",
       "Z_Revenue              0\n",
       "Response               0\n",
       "dtype: int64"
      ]
     },
     "execution_count": 7,
     "metadata": {},
     "output_type": "execute_result"
    }
   ],
   "source": [
    "df_cust.isnull().sum()"
   ]
  },
  {
   "cell_type": "code",
   "execution_count": 8,
   "id": "5acf2196",
   "metadata": {},
   "outputs": [
    {
     "data": {
      "text/plain": [
       "ID                       int64\n",
       "Year_Birth               int64\n",
       "Education               object\n",
       "Marital_Status          object\n",
       "Income                 float64\n",
       "Kidhome                  int64\n",
       "Teenhome                 int64\n",
       "Dt_Customer             object\n",
       "Recency                  int64\n",
       "MntWines                 int64\n",
       "MntFruits                int64\n",
       "MntMeatProducts          int64\n",
       "MntFishProducts          int64\n",
       "MntSweetProducts         int64\n",
       "MntGoldProds             int64\n",
       "NumDealsPurchases        int64\n",
       "NumWebPurchases          int64\n",
       "NumCatalogPurchases      int64\n",
       "NumStorePurchases        int64\n",
       "NumWebVisitsMonth        int64\n",
       "AcceptedCmp3             int64\n",
       "AcceptedCmp4             int64\n",
       "AcceptedCmp5             int64\n",
       "AcceptedCmp1             int64\n",
       "AcceptedCmp2             int64\n",
       "Complain                 int64\n",
       "Z_CostContact            int64\n",
       "Z_Revenue                int64\n",
       "Response                 int64\n",
       "dtype: object"
      ]
     },
     "execution_count": 8,
     "metadata": {},
     "output_type": "execute_result"
    }
   ],
   "source": [
    "df_cust.dtypes"
   ]
  },
  {
   "cell_type": "markdown",
   "id": "b16cbee0",
   "metadata": {},
   "source": [
    "# Z columns have the same value in all rows and are extraneous, need to be removed"
   ]
  },
  {
   "cell_type": "code",
   "execution_count": 9,
   "id": "2eed2f64",
   "metadata": {},
   "outputs": [],
   "source": [
    "df_cust = df_cust.drop(columns=['Z_CostContact','Z_Revenue'])"
   ]
  },
  {
   "cell_type": "markdown",
   "id": "f04e4304",
   "metadata": {},
   "source": [
    "# Check the distribution of the buyer characteristics - plot a histogram for each characteristic using a user defined function"
   ]
  },
  {
   "cell_type": "code",
   "execution_count": 10,
   "id": "6d52f688",
   "metadata": {},
   "outputs": [],
   "source": [
    "def hist(colname):\n",
    "    plt.hist(df_cust[colname])"
   ]
  },
  {
   "cell_type": "code",
   "execution_count": 12,
   "id": "6deaaf76",
   "metadata": {},
   "outputs": [
    {
     "data": {
      "text/plain": [
       "Text(0.5, 1.0, 'Distribution of customers by Education Level')"
      ]
     },
     "execution_count": 12,
     "metadata": {},
     "output_type": "execute_result"
    },
    {
     "data": {
      "image/png": "[encoded data removed]",
      "text/plain": [
       "<Figure size 432x288 with 1 Axes>"
      ]
     },
     "metadata": {
      "needs_background": "light"
     },
     "output_type": "display_data"
    }
   ],
   "source": [
    "hist(\"Education\")\n",
    "plt.xlabel(\"Education Level\")\n",
    "plt.ylabel(\"# of customers\")\n",
    "plt.title('Distribution of customers by Education Level')"
   ]
  },
  {
   "cell_type": "markdown",
   "id": "e6d69c67",
   "metadata": {},
   "source": [
    "originally plotted without the function"
   ]
  },
  {
   "cell_type": "code",
   "execution_count": 13,
   "id": "e8a633c1",
   "metadata": {},
   "outputs": [
    {
     "data": {
      "text/plain": [
       "Text(0.5, 1.0, 'Distribution of Education Level')"
      ]
     },
     "execution_count": 13,
     "metadata": {},
     "output_type": "execute_result"
    },
    {
     "data": {
      "image/png": "[encoded data removed]",
      "text/plain": [
       "<Figure size 432x288 with 1 Axes>"
      ]
     },
     "metadata": {
      "needs_background": "light"
     },
     "output_type": "display_data"
    }
   ],
   "source": [
    "plt.hist(df_cust['Education'])\n",
    "plt.xlabel('Education Level')\n",
    "plt.ylabel('Count')\n",
    "plt.title('Distribution of Education Level')"
   ]
  },
  {
   "cell_type": "code",
   "execution_count": 14,
   "id": "93402163",
   "metadata": {},
   "outputs": [
    {
     "data": {
      "text/plain": [
       "Text(0.5, 1.0, 'Distribution of Orders by Martial Status')"
      ]
     },
     "execution_count": 14,
     "metadata": {},
     "output_type": "execute_result"
    },
    {
     "data": {
      "image/png": "[encoded data removed]",
      "text/plain": [
       "<Figure size 432x288 with 1 Axes>"
      ]
     },
     "metadata": {
      "needs_background": "light"
     },
     "output_type": "display_data"
    }
   ],
   "source": [
    "hist('Marital_Status')\n",
    "plt.xlabel(\"Marital Status\")\n",
    "plt.ylabel(\"# of orders\")\n",
    "plt.title('Distribution of Orders by Martial Status')"
   ]
  },
  {
   "cell_type": "markdown",
   "id": "e8a712c9",
   "metadata": {},
   "source": [
    "originally plotted without the function"
   ]
  },
  {
   "cell_type": "code",
   "execution_count": 15,
   "id": "1d2c7f6d",
   "metadata": {},
   "outputs": [
    {
     "data": {
      "text/plain": [
       "Text(0.5, 1.0, 'Distribution of Customers by Martial Status')"
      ]
     },
     "execution_count": 15,
     "metadata": {},
     "output_type": "execute_result"
    },
    {
     "data": {
      "image/png": "[encoded data removed]",
      "text/plain": [
       "<Figure size 432x288 with 1 Axes>"
      ]
     },
     "metadata": {
      "needs_background": "light"
     },
     "output_type": "display_data"
    }
   ],
   "source": [
    "plt.hist(df_cust['Marital_Status'])\n",
    "plt.xlabel('Marital Status')\n",
    "plt.ylabel('# of Customers')\n",
    "plt.title('Distribution of Customers by Martial Status')"
   ]
  },
  {
   "cell_type": "markdown",
   "id": "3cef8167",
   "metadata": {},
   "source": [
    "Need To remove last three responses as they are bad data"
   ]
  },
  {
   "cell_type": "code",
   "execution_count": 16,
   "id": "361b8087",
   "metadata": {},
   "outputs": [],
   "source": [
    "status = ['Alone', 'Absurd', 'YOLO']"
   ]
  },
  {
   "cell_type": "code",
   "execution_count": 17,
   "id": "d7af47e5",
   "metadata": {},
   "outputs": [],
   "source": [
    "df_cust.drop(df_cust[df_cust['Marital_Status'].isin(status)].index, inplace = True)"
   ]
  },
  {
   "cell_type": "code",
   "execution_count": 18,
   "id": "04372611",
   "metadata": {},
   "outputs": [
    {
     "data": {
      "text/plain": [
       "Text(0.5, 1.0, 'Distribution of Customers by Martial Status')"
      ]
     },
     "execution_count": 18,
     "metadata": {},
     "output_type": "execute_result"
    },
    {
     "data": {
      "image/png": "[encoded data removed]",
      "text/plain": [
       "<Figure size 432x288 with 1 Axes>"
      ]
     },
     "metadata": {
      "needs_background": "light"
     },
     "output_type": "display_data"
    }
   ],
   "source": [
    "plt.hist(df_cust['Marital_Status'])\n",
    "plt.xlabel('Marital Status')\n",
    "plt.ylabel('# of Customers')\n",
    "plt.title('Distribution of Customers by Martial Status')"
   ]
  },
  {
   "cell_type": "code",
   "execution_count": 19,
   "id": "77534ba0",
   "metadata": {},
   "outputs": [],
   "source": [
    "bin_edges = [0,10000,20000,30000,40000,50000,60000,70000,80000,90000,100000,110000,120000,130000,140000,150000,160000,170000]"
   ]
  },
  {
   "cell_type": "code",
   "execution_count": 19,
   "id": "045b8e2f",
   "metadata": {},
   "outputs": [
    {
     "data": {
      "text/plain": [
       "Text(0.5, 1.0, 'Distribution of Customers by Income')"
      ]
     },
     "execution_count": 19,
     "metadata": {},
     "output_type": "execute_result"
    },
    {
     "data": {
      "image/png": "[encoded data removed]",
      "text/plain": [
       "<Figure size 432x288 with 1 Axes>"
      ]
     },
     "metadata": {
      "needs_background": "light"
     },
     "output_type": "display_data"
    }
   ],
   "source": [
    "plt.hist(df_cust['Income'], bins=bin_edges)\n",
    "plt.xlabel('Income')\n",
    "plt.ylabel('Number of Customers')\n",
    "plt.title('Distribution of Customers by Income')"
   ]
  },
  {
   "cell_type": "markdown",
   "id": "48a64265",
   "metadata": {},
   "source": [
    "Need to remove Outliers"
   ]
  },
  {
   "cell_type": "code",
   "execution_count": 21,
   "id": "fa2b7f49",
   "metadata": {},
   "outputs": [
    {
     "data": {
      "text/plain": [
       "<AxesSubplot:xlabel='Income'>"
      ]
     },
     "execution_count": 21,
     "metadata": {},
     "output_type": "execute_result"
    },
    {
     "data": {
      "image/png": "[encoded data removed]",
      "text/plain": [
       "<Figure size 432x288 with 1 Axes>"
      ]
     },
     "metadata": {
      "needs_background": "light"
     },
     "output_type": "display_data"
    }
   ],
   "source": [
    "sns.boxplot(x='Income', data=df_cust)"
   ]
  },
  {
   "cell_type": "markdown",
   "id": "cd309af7",
   "metadata": {},
   "source": [
    "Boxplot shows orders outside the whiskers indicating only a few extreme outliers - ok to remove.  Define Interquartile range and eliminate outliers more than 1.5 x the IQR"
   ]
  },
  {
   "cell_type": "markdown",
   "id": "7b58e509",
   "metadata": {},
   "source": [
    "define first quartile - lower bound"
   ]
  },
  {
   "cell_type": "code",
   "execution_count": 22,
   "id": "d963acbe",
   "metadata": {},
   "outputs": [
    {
     "name": "stdout",
     "output_type": "stream",
     "text": [
      "35246.0\n"
     ]
    }
   ],
   "source": [
    "Q1= df_cust['Income'].quantile(q=0.25, interpolation = 'linear')\n",
    "print(Q1)"
   ]
  },
  {
   "cell_type": "markdown",
   "id": "074ac0d9",
   "metadata": {},
   "source": [
    "Define third quartile as upper bound - gives the middle 50% as the IQR"
   ]
  },
  {
   "cell_type": "code",
   "execution_count": 23,
   "id": "93e693a9",
   "metadata": {},
   "outputs": [
    {
     "name": "stdout",
     "output_type": "stream",
     "text": [
      "68627.0\n"
     ]
    }
   ],
   "source": [
    "Q3= df_cust['Income'].quantile(q=0.75, interpolation = 'linear')\n",
    "print(Q3)"
   ]
  },
  {
   "cell_type": "markdown",
   "id": "ebedbf75",
   "metadata": {},
   "source": [
    "Calculate IQR"
   ]
  },
  {
   "cell_type": "code",
   "execution_count": 24,
   "id": "9d93b7e4",
   "metadata": {},
   "outputs": [
    {
     "name": "stdout",
     "output_type": "stream",
     "text": [
      "33381.0\n"
     ]
    }
   ],
   "source": [
    "IQR = Q3-Q1\n",
    "print(IQR)"
   ]
  },
  {
   "cell_type": "markdown",
   "id": "cb3c5234",
   "metadata": {},
   "source": [
    "Calculate lower limit as 1.5 times below the lower bound of the IQR"
   ]
  },
  {
   "cell_type": "code",
   "execution_count": 25,
   "id": "bcbc9d1f",
   "metadata": {},
   "outputs": [
    {
     "name": "stdout",
     "output_type": "stream",
     "text": [
      "-14825.5\n"
     ]
    }
   ],
   "source": [
    "lower_limit= Q1-1.5*IQR\n",
    "print(lower_limit)"
   ]
  },
  {
   "cell_type": "markdown",
   "id": "d06b50b8",
   "metadata": {},
   "source": [
    "Calculate upper limit as 1.5 times above the upper bound of the IQR"
   ]
  },
  {
   "cell_type": "code",
   "execution_count": 26,
   "id": "96a15de1",
   "metadata": {},
   "outputs": [
    {
     "name": "stdout",
     "output_type": "stream",
     "text": [
      "118698.5\n"
     ]
    }
   ],
   "source": [
    "upper_limit= Q3+ 1.5*IQR\n",
    "print(upper_limit)"
   ]
  },
  {
   "cell_type": "markdown",
   "id": "466f9097",
   "metadata": {},
   "source": [
    "How many outliers are there and what do they look like?"
   ]
  },
  {
   "cell_type": "code",
   "execution_count": 27,
   "id": "7b043158",
   "metadata": {},
   "outputs": [
    {
     "name": "stdout",
     "output_type": "stream",
     "text": [
      "         ID  Year_Birth   Education Marital_Status    Income  Kidhome  \\\n",
      "164    8475        1973         PhD        Married  157243.0        0   \n",
      "617    1503        1976         PhD       Together  162397.0        1   \n",
      "655    5555        1975  Graduation       Divorced  153924.0        0   \n",
      "687    1501        1982         PhD        Married  160803.0        0   \n",
      "1300   5336        1971      Master       Together  157733.0        1   \n",
      "1653   4931        1977  Graduation       Together  157146.0        0   \n",
      "2132  11181        1949         PhD        Married  156924.0        0   \n",
      "2233   9432        1977  Graduation       Together  666666.0        1   \n",
      "\n",
      "      Teenhome Dt_Customer  Recency  MntWines  ...  NumCatalogPurchases  \\\n",
      "164          1  01-03-2014       98        20  ...                   22   \n",
      "617          1  03-06-2013       31        85  ...                    0   \n",
      "655          0  07-02-2014       81         1  ...                    0   \n",
      "687          0  04-08-2012       21        55  ...                   28   \n",
      "1300         0  04-06-2013       37        39  ...                    0   \n",
      "1653         0  29-04-2013       13         1  ...                   28   \n",
      "2132         0  29-08-2013       85         2  ...                    0   \n",
      "2233         0  02-06-2013       23         9  ...                    1   \n",
      "\n",
      "      NumStorePurchases  NumWebVisitsMonth  AcceptedCmp3  AcceptedCmp4  \\\n",
      "164                   0                  0             0             0   \n",
      "617                   1                  1             0             0   \n",
      "655                   0                  0             0             0   \n",
      "687                   1                  0             0             0   \n",
      "1300                  1                  1             0             0   \n",
      "1653                  0                  1             0             0   \n",
      "2132                  0                  0             0             0   \n",
      "2233                  3                  6             0             0   \n",
      "\n",
      "      AcceptedCmp5  AcceptedCmp1  AcceptedCmp2  Complain  Response  \n",
      "164              0             0             0         0         0  \n",
      "617              0             0             0         0         0  \n",
      "655              0             0             0         0         0  \n",
      "687              0             0             0         0         0  \n",
      "1300             0             0             0         0         0  \n",
      "1653             0             0             0         0         0  \n",
      "2132             0             0             0         0         0  \n",
      "2233             0             0             0         0         0  \n",
      "\n",
      "[8 rows x 27 columns]\n"
     ]
    }
   ],
   "source": [
    "Outliers = df_cust[((df_cust['Income'] < lower_limit) | ((df_cust['Income'] > upper_limit)))]\n",
    "print(Outliers)"
   ]
  },
  {
   "cell_type": "markdown",
   "id": "817593ad",
   "metadata": {},
   "source": [
    "Only 8 rows of outliers - ok to remove"
   ]
  },
  {
   "cell_type": "code",
   "execution_count": 28,
   "id": "3090f8ca",
   "metadata": {},
   "outputs": [
    {
     "name": "stdout",
     "output_type": "stream",
     "text": [
      "         ID  Year_Birth   Education Marital_Status   Income  Kidhome  \\\n",
      "0      5524        1957  Graduation         Single  58138.0        0   \n",
      "1      2174        1954  Graduation         Single  46344.0        1   \n",
      "2      4141        1965  Graduation       Together  71613.0        0   \n",
      "3      6182        1984  Graduation       Together  26646.0        1   \n",
      "4      5324        1981         PhD        Married  58293.0        1   \n",
      "...     ...         ...         ...            ...      ...      ...   \n",
      "2235  10870        1967  Graduation        Married  61223.0        0   \n",
      "2236   4001        1946         PhD       Together  64014.0        2   \n",
      "2237   7270        1981  Graduation       Divorced  56981.0        0   \n",
      "2238   8235        1956      Master       Together  69245.0        0   \n",
      "2239   9405        1954         PhD        Married  52869.0        1   \n",
      "\n",
      "      Teenhome Dt_Customer  Recency  MntWines  ...  NumCatalogPurchases  \\\n",
      "0            0  04-09-2012       58       635  ...                   10   \n",
      "1            1  08-03-2014       38        11  ...                    1   \n",
      "2            0  21-08-2013       26       426  ...                    2   \n",
      "3            0  10-02-2014       26        11  ...                    0   \n",
      "4            0  19-01-2014       94       173  ...                    3   \n",
      "...        ...         ...      ...       ...  ...                  ...   \n",
      "2235         1  13-06-2013       46       709  ...                    3   \n",
      "2236         1  10-06-2014       56       406  ...                    2   \n",
      "2237         0  25-01-2014       91       908  ...                    3   \n",
      "2238         1  24-01-2014        8       428  ...                    5   \n",
      "2239         1  15-10-2012       40        84  ...                    1   \n",
      "\n",
      "      NumStorePurchases  NumWebVisitsMonth  AcceptedCmp3  AcceptedCmp4  \\\n",
      "0                     4                  7             0             0   \n",
      "1                     2                  5             0             0   \n",
      "2                    10                  4             0             0   \n",
      "3                     4                  6             0             0   \n",
      "4                     6                  5             0             0   \n",
      "...                 ...                ...           ...           ...   \n",
      "2235                  4                  5             0             0   \n",
      "2236                  5                  7             0             0   \n",
      "2237                 13                  6             0             1   \n",
      "2238                 10                  3             0             0   \n",
      "2239                  4                  7             0             0   \n",
      "\n",
      "      AcceptedCmp5  AcceptedCmp1  AcceptedCmp2  Complain  Response  \n",
      "0                0             0             0         0         1  \n",
      "1                0             0             0         0         0  \n",
      "2                0             0             0         0         0  \n",
      "3                0             0             0         0         0  \n",
      "4                0             0             0         0         0  \n",
      "...            ...           ...           ...       ...       ...  \n",
      "2235             0             0             0         0         0  \n",
      "2236             0             1             0         0         0  \n",
      "2237             0             0             0         0         0  \n",
      "2238             0             0             0         0         0  \n",
      "2239             0             0             0         0         1  \n",
      "\n",
      "[2201 rows x 27 columns]\n"
     ]
    }
   ],
   "source": [
    "No_Outliers = df_cust[~((df_cust['Income'] < lower_limit) | ((df_cust['Income'] > upper_limit)))]\n",
    "print(No_Outliers)"
   ]
  },
  {
   "cell_type": "markdown",
   "id": "8502a8c2",
   "metadata": {},
   "source": [
    "New boxplot without the outliers"
   ]
  },
  {
   "cell_type": "code",
   "execution_count": 29,
   "id": "1a5e68eb",
   "metadata": {},
   "outputs": [
    {
     "data": {
      "text/plain": [
       "<AxesSubplot:xlabel='Income'>"
      ]
     },
     "execution_count": 29,
     "metadata": {},
     "output_type": "execute_result"
    },
    {
     "data": {
      "image/png": "[encoded data removed]",
      "text/plain": [
       "<Figure size 432x288 with 1 Axes>"
      ]
     },
     "metadata": {
      "needs_background": "light"
     },
     "output_type": "display_data"
    }
   ],
   "source": [
    "sns.boxplot(x='Income', data=No_Outliers)"
   ]
  },
  {
   "cell_type": "code",
   "execution_count": 30,
   "id": "5e12809a",
   "metadata": {},
   "outputs": [
    {
     "data": {
      "text/plain": [
       "51628.40118128124"
      ]
     },
     "execution_count": 30,
     "metadata": {},
     "output_type": "execute_result"
    }
   ],
   "source": [
    "np.mean(No_Outliers['Income'])"
   ]
  },
  {
   "cell_type": "code",
   "execution_count": 31,
   "id": "d2eee8c2",
   "metadata": {},
   "outputs": [
    {
     "data": {
      "text/plain": [
       "51315.0"
      ]
     },
     "execution_count": 31,
     "metadata": {},
     "output_type": "execute_result"
    }
   ],
   "source": [
    "np.median(No_Outliers['Income'])"
   ]
  },
  {
   "cell_type": "markdown",
   "id": "efd5deb1",
   "metadata": {},
   "source": [
    "Now income looks to have a relatively normal distribution"
   ]
  },
  {
   "cell_type": "markdown",
   "id": "eccb0cad",
   "metadata": {},
   "source": [
    "Convert Age to Date/Time type so I can calculate age"
   ]
  },
  {
   "cell_type": "code",
   "execution_count": 32,
   "id": "57729d93",
   "metadata": {},
   "outputs": [
    {
     "name": "stderr",
     "output_type": "stream",
     "text": [
      "C:\\Users\\admin\\AppData\\Local\\Temp/ipykernel_1004/1606011984.py:1: SettingWithCopyWarning: \n",
      "A value is trying to be set on a copy of a slice from a DataFrame.\n",
      "Try using .loc[row_indexer,col_indexer] = value instead\n",
      "\n",
      "See the caveats in the documentation: https://pandas.pydata.org/pandas-docs/stable/user_guide/indexing.html#returning-a-view-versus-a-copy\n",
      "  No_Outliers['Dt_Customer'] =  pd.to_datetime(No_Outliers['Dt_Customer'])\n"
     ]
    }
   ],
   "source": [
    "No_Outliers['Dt_Customer'] =  pd.to_datetime(No_Outliers['Dt_Customer'])"
   ]
  },
  {
   "cell_type": "code",
   "execution_count": 33,
   "id": "c6820dba",
   "metadata": {},
   "outputs": [
    {
     "data": {
      "text/plain": [
       "ID                              int64\n",
       "Year_Birth                      int64\n",
       "Education                      object\n",
       "Marital_Status                 object\n",
       "Income                        float64\n",
       "Kidhome                         int64\n",
       "Teenhome                        int64\n",
       "Dt_Customer            datetime64[ns]\n",
       "Recency                         int64\n",
       "MntWines                        int64\n",
       "MntFruits                       int64\n",
       "MntMeatProducts                 int64\n",
       "MntFishProducts                 int64\n",
       "MntSweetProducts                int64\n",
       "MntGoldProds                    int64\n",
       "NumDealsPurchases               int64\n",
       "NumWebPurchases                 int64\n",
       "NumCatalogPurchases             int64\n",
       "NumStorePurchases               int64\n",
       "NumWebVisitsMonth               int64\n",
       "AcceptedCmp3                    int64\n",
       "AcceptedCmp4                    int64\n",
       "AcceptedCmp5                    int64\n",
       "AcceptedCmp1                    int64\n",
       "AcceptedCmp2                    int64\n",
       "Complain                        int64\n",
       "Response                        int64\n",
       "dtype: object"
      ]
     },
     "execution_count": 33,
     "metadata": {},
     "output_type": "execute_result"
    }
   ],
   "source": [
    "No_Outliers.dtypes"
   ]
  },
  {
   "cell_type": "markdown",
   "id": "9696c412",
   "metadata": {},
   "source": [
    "Check the correlation of the different variables"
   ]
  },
  {
   "cell_type": "code",
   "execution_count": 34,
   "id": "6e3bd016",
   "metadata": {},
   "outputs": [
    {
     "name": "stdout",
     "output_type": "stream",
     "text": [
      "                           ID  Year_Birth    Income   Kidhome  Teenhome  \\\n",
      "ID                   1.000000    0.003888  0.000399  0.003654 -0.002587   \n",
      "Year_Birth           0.003888    1.000000 -0.211183  0.234882 -0.351656   \n",
      "Income               0.000399   -0.211183  1.000000 -0.532112  0.043085   \n",
      "Kidhome              0.003654    0.234882 -0.532112  1.000000 -0.041134   \n",
      "Teenhome            -0.002587   -0.351656  0.043085 -0.041134  1.000000   \n",
      "Recency             -0.047994   -0.013544  0.004689  0.012994  0.014149   \n",
      "MntWines            -0.020744   -0.158908  0.730481 -0.499491  0.002009   \n",
      "MntFruits            0.006758   -0.018271  0.537893 -0.374072 -0.176232   \n",
      "MntMeatProducts     -0.004066   -0.040031  0.703146 -0.445736 -0.266881   \n",
      "MntFishProducts     -0.024816   -0.041567  0.551980 -0.389739 -0.204403   \n",
      "MntSweetProducts    -0.006449   -0.020368  0.555908 -0.379529 -0.163930   \n",
      "MntGoldProds        -0.012018   -0.066111  0.417492 -0.355896 -0.018653   \n",
      "NumDealsPurchases   -0.039077   -0.064483 -0.132528  0.227045  0.394030   \n",
      "NumWebPurchases     -0.016853   -0.152103  0.503445 -0.376365  0.159727   \n",
      "NumCatalogPurchases -0.000286   -0.138002  0.709821 -0.519594 -0.112903   \n",
      "NumStorePurchases   -0.012677   -0.127207  0.686034 -0.505717  0.047950   \n",
      "NumWebVisitsMonth   -0.006668    0.127755 -0.649028  0.449264  0.127674   \n",
      "AcceptedCmp3        -0.037434    0.062242 -0.009978  0.014204 -0.044730   \n",
      "AcceptedCmp4        -0.024208   -0.065669  0.233235 -0.162683  0.038122   \n",
      "AcceptedCmp5        -0.008430    0.007790  0.416759 -0.205247 -0.190690   \n",
      "AcceptedCmp1        -0.019740   -0.012798  0.343905 -0.173889 -0.144409   \n",
      "AcceptedCmp2        -0.015129   -0.006460  0.110193 -0.082168 -0.015722   \n",
      "Complain             0.034256   -0.030275 -0.030245  0.041044  0.003187   \n",
      "Response            -0.025746    0.021416  0.174951 -0.077921 -0.156699   \n",
      "\n",
      "                      Recency  MntWines  MntFruits  MntMeatProducts  \\\n",
      "ID                  -0.047994 -0.020744   0.006758        -0.004066   \n",
      "Year_Birth          -0.013544 -0.158908  -0.018271        -0.040031   \n",
      "Income               0.004689  0.730481   0.537893         0.703146   \n",
      "Kidhome              0.012994 -0.499491  -0.374072        -0.445736   \n",
      "Teenhome             0.014149  0.002009  -0.176232        -0.266881   \n",
      "Recency              1.000000  0.015279  -0.007213         0.024228   \n",
      "MntWines             0.015279  1.000000   0.386236         0.594455   \n",
      "MntFruits           -0.007213  0.386236   1.000000         0.569176   \n",
      "MntMeatProducts      0.024228  0.594455   0.569176         1.000000   \n",
      "MntFishProducts     -0.000962  0.398129   0.591674         0.596964   \n",
      "MntSweetProducts     0.023868  0.389218   0.571140         0.557581   \n",
      "MntGoldProds         0.017003  0.392371   0.393330         0.377913   \n",
      "NumDealsPurchases    0.003171  0.011990  -0.135315        -0.164924   \n",
      "NumWebPurchases     -0.003884  0.552543   0.302612         0.331586   \n",
      "NumCatalogPurchases  0.027565  0.674601   0.512693         0.715760   \n",
      "NumStorePurchases   -0.000379  0.638856   0.457702         0.516873   \n",
      "NumWebVisitsMonth   -0.015371 -0.330580  -0.423820        -0.543626   \n",
      "AcceptedCmp3        -0.032390  0.062327   0.015095         0.022287   \n",
      "AcceptedCmp4         0.016999  0.372968   0.005853         0.096546   \n",
      "AcceptedCmp5        -0.001659  0.474086   0.210102         0.392533   \n",
      "AcceptedCmp1        -0.022379  0.351506   0.188844         0.326493   \n",
      "AcceptedCmp2        -0.001670  0.206171  -0.010232         0.045734   \n",
      "Complain             0.013468 -0.039865  -0.005528        -0.023883   \n",
      "Response            -0.200171  0.246821   0.121568         0.251228   \n",
      "\n",
      "                     MntFishProducts  ...  NumCatalogPurchases  \\\n",
      "ID                         -0.024816  ...            -0.000286   \n",
      "Year_Birth                 -0.041567  ...            -0.138002   \n",
      "Income                      0.551980  ...             0.709821   \n",
      "Kidhome                    -0.389739  ...            -0.519594   \n",
      "Teenhome                   -0.204403  ...            -0.112903   \n",
      "Recency                    -0.000962  ...             0.027565   \n",
      "MntWines                    0.398129  ...             0.674601   \n",
      "MntFruits                   0.591674  ...             0.512693   \n",
      "MntMeatProducts             0.596964  ...             0.715760   \n",
      "MntFishProducts             1.000000  ...             0.561751   \n",
      "MntSweetProducts            0.585336  ...             0.524783   \n",
      "MntGoldProds                0.421230  ...             0.469111   \n",
      "NumDealsPurchases          -0.144006  ...            -0.056519   \n",
      "NumWebPurchases             0.301657  ...             0.424016   \n",
      "NumCatalogPurchases         0.561751  ...             1.000000   \n",
      "NumStorePurchases           0.458008  ...             0.561571   \n",
      "NumWebVisitsMonth          -0.451193  ...            -0.529199   \n",
      "AcceptedCmp3                0.000643  ...             0.113606   \n",
      "AcceptedCmp4                0.015987  ...             0.149916   \n",
      "AcceptedCmp5                0.192172  ...             0.337753   \n",
      "AcceptedCmp1                0.257827  ...             0.323251   \n",
      "AcceptedCmp2                0.002271  ...             0.106032   \n",
      "Complain                   -0.021407  ...            -0.020960   \n",
      "Response                    0.106393  ...             0.234070   \n",
      "\n",
      "                     NumStorePurchases  NumWebVisitsMonth  AcceptedCmp3  \\\n",
      "ID                           -0.012677          -0.006668     -0.037434   \n",
      "Year_Birth                   -0.127207           0.127755      0.062242   \n",
      "Income                        0.686034          -0.649028     -0.009978   \n",
      "Kidhome                      -0.505717           0.449264      0.014204   \n",
      "Teenhome                      0.047950           0.127674     -0.044730   \n",
      "Recency                      -0.000379          -0.015371     -0.032390   \n",
      "MntWines                      0.638856          -0.330580      0.062327   \n",
      "MntFruits                     0.457702          -0.423820      0.015095   \n",
      "MntMeatProducts               0.516873          -0.543626      0.022287   \n",
      "MntFishProducts               0.458008          -0.451193      0.000643   \n",
      "MntSweetProducts              0.454050          -0.429407      0.001890   \n",
      "MntGoldProds                  0.387846          -0.251682      0.126745   \n",
      "NumDealsPurchases             0.073853           0.362668     -0.021822   \n",
      "NumWebPurchases               0.513153          -0.063914      0.044303   \n",
      "NumCatalogPurchases           0.561571          -0.529199      0.113606   \n",
      "NumStorePurchases             1.000000          -0.448700     -0.069170   \n",
      "NumWebVisitsMonth            -0.448700           1.000000      0.060518   \n",
      "AcceptedCmp3                 -0.069170           0.060518      1.000000   \n",
      "AcceptedCmp4                  0.177208          -0.030673     -0.079979   \n",
      "AcceptedCmp5                  0.212309          -0.279766      0.081189   \n",
      "AcceptedCmp1                  0.177971          -0.195440      0.096795   \n",
      "AcceptedCmp2                  0.084976          -0.008151      0.071907   \n",
      "Complain                     -0.017631           0.019350      0.008132   \n",
      "Response                      0.034934          -0.003798      0.252025   \n",
      "\n",
      "                     AcceptedCmp4  AcceptedCmp5  AcceptedCmp1  AcceptedCmp2  \\\n",
      "ID                      -0.024208     -0.008430     -0.019740     -0.015129   \n",
      "Year_Birth              -0.065669      0.007790     -0.012798     -0.006460   \n",
      "Income                   0.233235      0.416759      0.343905      0.110193   \n",
      "Kidhome                 -0.162683     -0.205247     -0.173889     -0.082168   \n",
      "Teenhome                 0.038122     -0.190690     -0.144409     -0.015722   \n",
      "Recency                  0.016999     -0.001659     -0.022379     -0.001670   \n",
      "MntWines                 0.372968      0.474086      0.351506      0.206171   \n",
      "MntFruits                0.005853      0.210102      0.188844     -0.010232   \n",
      "MntMeatProducts          0.096546      0.392533      0.326493      0.045734   \n",
      "MntFishProducts          0.015987      0.192172      0.257827      0.002271   \n",
      "MntSweetProducts         0.028396      0.257983      0.243867      0.009803   \n",
      "MntGoldProds             0.024021      0.176099      0.164381      0.050974   \n",
      "NumDealsPurchases        0.018117     -0.186384     -0.128052     -0.038206   \n",
      "NumWebPurchases          0.162900      0.141497      0.159896      0.034613   \n",
      "NumCatalogPurchases      0.149916      0.337753      0.323251      0.106032   \n",
      "NumStorePurchases        0.177208      0.212309      0.177971      0.084976   \n",
      "NumWebVisitsMonth       -0.030673     -0.279766     -0.195440     -0.008151   \n",
      "AcceptedCmp3            -0.079979      0.081189      0.096795      0.071907   \n",
      "AcceptedCmp4             1.000000      0.312324      0.243726      0.294918   \n",
      "AcceptedCmp5             0.312324      1.000000      0.403948      0.222805   \n",
      "AcceptedCmp1             0.243726      0.403948      1.000000      0.177277   \n",
      "AcceptedCmp2             0.294918      0.222805      0.177277      1.000000   \n",
      "Complain                -0.027849     -0.009623     -0.025678     -0.011538   \n",
      "Response                 0.181305      0.321904      0.295520      0.170147   \n",
      "\n",
      "                     Complain  Response  \n",
      "ID                   0.034256 -0.025746  \n",
      "Year_Birth          -0.030275  0.021416  \n",
      "Income              -0.030245  0.174951  \n",
      "Kidhome              0.041044 -0.077921  \n",
      "Teenhome             0.003187 -0.156699  \n",
      "Recency              0.013468 -0.200171  \n",
      "MntWines            -0.039865  0.246821  \n",
      "MntFruits           -0.005528  0.121568  \n",
      "MntMeatProducts     -0.023883  0.251228  \n",
      "MntFishProducts     -0.021407  0.106393  \n",
      "MntSweetProducts    -0.023005  0.115866  \n",
      "MntGoldProds        -0.031365  0.137242  \n",
      "NumDealsPurchases    0.001080  0.005298  \n",
      "NumWebPurchases     -0.017084  0.151587  \n",
      "NumCatalogPurchases -0.020960  0.234070  \n",
      "NumStorePurchases   -0.017631  0.034934  \n",
      "NumWebVisitsMonth    0.019350 -0.003798  \n",
      "AcceptedCmp3         0.008132  0.252025  \n",
      "AcceptedCmp4        -0.027849  0.181305  \n",
      "AcceptedCmp5        -0.009623  0.321904  \n",
      "AcceptedCmp1        -0.025678  0.295520  \n",
      "AcceptedCmp2        -0.011538  0.170147  \n",
      "Complain             1.000000 -0.001945  \n",
      "Response            -0.001945  1.000000  \n",
      "\n",
      "[24 rows x 24 columns]\n"
     ]
    }
   ],
   "source": [
    "print(No_Outliers.corr())"
   ]
  },
  {
   "cell_type": "markdown",
   "id": "6d83a555",
   "metadata": {},
   "source": [
    "Focusing on Income"
   ]
  },
  {
   "cell_type": "code",
   "execution_count": 35,
   "id": "6f669d72",
   "metadata": {},
   "outputs": [],
   "source": [
    "no_out_corr=No_Outliers[['Income','MntWines','MntFruits','MntMeatProducts','MntSweetProducts','MntGoldProds']].corr()"
   ]
  },
  {
   "cell_type": "code",
   "execution_count": 36,
   "id": "c4e7c0ab",
   "metadata": {},
   "outputs": [
    {
     "name": "stdout",
     "output_type": "stream",
     "text": [
      "                    Income  MntWines  MntFruits  MntMeatProducts  \\\n",
      "Income            1.000000  0.730481   0.537893         0.703146   \n",
      "MntWines          0.730481  1.000000   0.386236         0.594455   \n",
      "MntFruits         0.537893  0.386236   1.000000         0.569176   \n",
      "MntMeatProducts   0.703146  0.594455   0.569176         1.000000   \n",
      "MntSweetProducts  0.555908  0.389218   0.571140         0.557581   \n",
      "MntGoldProds      0.417492  0.392371   0.393330         0.377913   \n",
      "\n",
      "                  MntSweetProducts  MntGoldProds  \n",
      "Income                    0.555908      0.417492  \n",
      "MntWines                  0.389218      0.392371  \n",
      "MntFruits                 0.571140      0.393330  \n",
      "MntMeatProducts           0.557581      0.377913  \n",
      "MntSweetProducts          1.000000      0.357230  \n",
      "MntGoldProds              0.357230      1.000000  \n"
     ]
    }
   ],
   "source": [
    "print(no_out_corr)"
   ]
  },
  {
   "cell_type": "markdown",
   "id": "df03e21b",
   "metadata": {},
   "source": [
    "A heatmap should illustrate this more clearly"
   ]
  },
  {
   "cell_type": "code",
   "execution_count": 37,
   "id": "83d8610c",
   "metadata": {},
   "outputs": [
    {
     "data": {
      "text/plain": [
       "<AxesSubplot:>"
      ]
     },
     "execution_count": 37,
     "metadata": {},
     "output_type": "execute_result"
    },
    {
     "data": {
      "image/png": "[encoded data removed]",
      "text/plain": [
       "<Figure size 432x288 with 2 Axes>"
      ]
     },
     "metadata": {
      "needs_background": "light"
     },
     "output_type": "display_data"
    }
   ],
   "source": [
    "sns.heatmap(no_out_corr, annot=True)"
   ]
  },
  {
   "cell_type": "markdown",
   "id": "efb5a1bf",
   "metadata": {},
   "source": [
    "Check correlation of some of the other variables"
   ]
  },
  {
   "cell_type": "code",
   "execution_count": 38,
   "id": "2ab6d606",
   "metadata": {},
   "outputs": [
    {
     "name": "stdout",
     "output_type": "stream",
     "text": [
      "                    Income  MntWines  MntFruits  MntMeatProducts  \\\n",
      "Income            1.000000  0.730481   0.537893         0.703146   \n",
      "MntWines          0.730481  1.000000   0.386236         0.594455   \n",
      "MntFruits         0.537893  0.386236   1.000000         0.569176   \n",
      "MntMeatProducts   0.703146  0.594455   0.569176         1.000000   \n",
      "MntSweetProducts  0.555908  0.389218   0.571140         0.557581   \n",
      "MntGoldProds      0.417492  0.392371   0.393330         0.377913   \n",
      "\n",
      "                  MntSweetProducts  MntGoldProds  \n",
      "Income                    0.555908      0.417492  \n",
      "MntWines                  0.389218      0.392371  \n",
      "MntFruits                 0.571140      0.393330  \n",
      "MntMeatProducts           0.557581      0.377913  \n",
      "MntSweetProducts          1.000000      0.357230  \n",
      "MntGoldProds              0.357230      1.000000  \n"
     ]
    }
   ],
   "source": [
    "no_out_corr_YB = No_Outliers[['Year_Birth','MntWines','MntFruits','MntMeatProducts','MntSweetProducts','MntGoldProds']].corr()\n",
    "print(no_out_corr)"
   ]
  },
  {
   "cell_type": "code",
   "execution_count": 39,
   "id": "a5af9232",
   "metadata": {},
   "outputs": [
    {
     "data": {
      "text/plain": [
       "<AxesSubplot:>"
      ]
     },
     "execution_count": 39,
     "metadata": {},
     "output_type": "execute_result"
    },
    {
     "data": {
      "image/png": "[encoded data removed]",
      "text/plain": [
       "<Figure size 432x288 with 2 Axes>"
      ]
     },
     "metadata": {
      "needs_background": "light"
     },
     "output_type": "display_data"
    }
   ],
   "source": [
    "sns.heatmap(no_out_corr_YB, annot=True)"
   ]
  },
  {
   "cell_type": "markdown",
   "id": "3e3a3ea4",
   "metadata": {},
   "source": [
    "Data isn't correlated because of the way it's stored - will calculate age categories and look at that below"
   ]
  },
  {
   "cell_type": "markdown",
   "id": "2d869529",
   "metadata": {},
   "source": [
    "DT_Customer is the date of the most recent order, rename to be less confusing"
   ]
  },
  {
   "cell_type": "code",
   "execution_count": 40,
   "id": "6870317e",
   "metadata": {},
   "outputs": [],
   "source": [
    "No_Outliers = df_cust.rename(columns={'Dt_Customer': 'First_Order_Date'})"
   ]
  },
  {
   "cell_type": "code",
   "execution_count": 41,
   "id": "010b1bf7",
   "metadata": {},
   "outputs": [
    {
     "data": {
      "text/plain": [
       "ID                       int64\n",
       "Year_Birth               int64\n",
       "Education               object\n",
       "Marital_Status          object\n",
       "Income                 float64\n",
       "Kidhome                  int64\n",
       "Teenhome                 int64\n",
       "First_Order_Date        object\n",
       "Recency                  int64\n",
       "MntWines                 int64\n",
       "MntFruits                int64\n",
       "MntMeatProducts          int64\n",
       "MntFishProducts          int64\n",
       "MntSweetProducts         int64\n",
       "MntGoldProds             int64\n",
       "NumDealsPurchases        int64\n",
       "NumWebPurchases          int64\n",
       "NumCatalogPurchases      int64\n",
       "NumStorePurchases        int64\n",
       "NumWebVisitsMonth        int64\n",
       "AcceptedCmp3             int64\n",
       "AcceptedCmp4             int64\n",
       "AcceptedCmp5             int64\n",
       "AcceptedCmp1             int64\n",
       "AcceptedCmp2             int64\n",
       "Complain                 int64\n",
       "Response                 int64\n",
       "dtype: object"
      ]
     },
     "execution_count": 41,
     "metadata": {},
     "output_type": "execute_result"
    }
   ],
   "source": [
    "No_Outliers.dtypes"
   ]
  },
  {
   "cell_type": "code",
   "execution_count": 42,
   "id": "dc152256",
   "metadata": {},
   "outputs": [],
   "source": [
    "No_Outliers['First_Order_Date'] =  pd.to_datetime(No_Outliers['First_Order_Date'])"
   ]
  },
  {
   "cell_type": "code",
   "execution_count": 43,
   "id": "07d1da16",
   "metadata": {},
   "outputs": [
    {
     "data": {
      "text/plain": [
       "ID                              int64\n",
       "Year_Birth                      int64\n",
       "Education                      object\n",
       "Marital_Status                 object\n",
       "Income                        float64\n",
       "Kidhome                         int64\n",
       "Teenhome                        int64\n",
       "First_Order_Date       datetime64[ns]\n",
       "Recency                         int64\n",
       "MntWines                        int64\n",
       "MntFruits                       int64\n",
       "MntMeatProducts                 int64\n",
       "MntFishProducts                 int64\n",
       "MntSweetProducts                int64\n",
       "MntGoldProds                    int64\n",
       "NumDealsPurchases               int64\n",
       "NumWebPurchases                 int64\n",
       "NumCatalogPurchases             int64\n",
       "NumStorePurchases               int64\n",
       "NumWebVisitsMonth               int64\n",
       "AcceptedCmp3                    int64\n",
       "AcceptedCmp4                    int64\n",
       "AcceptedCmp5                    int64\n",
       "AcceptedCmp1                    int64\n",
       "AcceptedCmp2                    int64\n",
       "Complain                        int64\n",
       "Response                        int64\n",
       "dtype: object"
      ]
     },
     "execution_count": 43,
     "metadata": {},
     "output_type": "execute_result"
    }
   ],
   "source": [
    "No_Outliers.dtypes"
   ]
  },
  {
   "cell_type": "markdown",
   "id": "f7c5c24d",
   "metadata": {},
   "source": [
    "# INSIGHTS"
   ]
  },
  {
   "cell_type": "markdown",
   "id": "44775da0",
   "metadata": {},
   "source": [
    "Need the total of the product columns to compare overall revenue.  Did this first individually, but then defined a function to make it easier to use later"
   ]
  },
  {
   "cell_type": "code",
   "execution_count": 44,
   "id": "eef38d8b",
   "metadata": {},
   "outputs": [],
   "source": [
    "sales_wine = No_Outliers['MntWines'].sum()"
   ]
  },
  {
   "cell_type": "code",
   "execution_count": 45,
   "id": "2344f857",
   "metadata": {},
   "outputs": [
    {
     "name": "stdout",
     "output_type": "stream",
     "text": [
      "674174\n"
     ]
    }
   ],
   "source": [
    "print(sales_wine)"
   ]
  },
  {
   "cell_type": "code",
   "execution_count": 46,
   "id": "f22e5d46",
   "metadata": {},
   "outputs": [],
   "source": [
    "def sales(colname):\n",
    "    print(No_Outliers[colname].sum())"
   ]
  },
  {
   "cell_type": "code",
   "execution_count": 47,
   "id": "10e03b9e",
   "metadata": {},
   "outputs": [
    {
     "name": "stdout",
     "output_type": "stream",
     "text": [
      "58218\n"
     ]
    }
   ],
   "source": [
    "sales(\"MntFruits\")"
   ]
  },
  {
   "cell_type": "code",
   "execution_count": 48,
   "id": "10b9b156",
   "metadata": {},
   "outputs": [
    {
     "name": "stdout",
     "output_type": "stream",
     "text": [
      "369259\n",
      "82963\n",
      "59808\n",
      "96854\n"
     ]
    }
   ],
   "source": [
    "sales('MntMeatProducts')\n",
    "sales('MntFishProducts')\n",
    "sales('MntSweetProducts')\n",
    "sales('MntGoldProds')"
   ]
  },
  {
   "cell_type": "code",
   "execution_count": 49,
   "id": "b3d22d8a",
   "metadata": {},
   "outputs": [],
   "source": [
    "sales_Fruits = No_Outliers['MntFruits'].sum()\n",
    "sales_Meat = No_Outliers['MntMeatProducts'].sum()\n",
    "sales_Fish = No_Outliers['MntFishProducts'].sum()\n",
    "sales_sweet = No_Outliers['MntSweetProducts'].sum()\n",
    "sales_Gold = No_Outliers['MntGoldProds'].sum()"
   ]
  },
  {
   "cell_type": "code",
   "execution_count": 50,
   "id": "334d4a60",
   "metadata": {},
   "outputs": [
    {
     "name": "stdout",
     "output_type": "stream",
     "text": [
      "58218 369259 82963 59808 96854\n"
     ]
    }
   ],
   "source": [
    "print(sales_Fruits, sales_Meat, sales_Fish, sales_sweet, sales_Gold)"
   ]
  },
  {
   "cell_type": "markdown",
   "id": "db2ff502",
   "metadata": {},
   "source": [
    "Look at the proportion of total sales for each category"
   ]
  },
  {
   "cell_type": "code",
   "execution_count": 51,
   "id": "36105bbe",
   "metadata": {},
   "outputs": [],
   "source": [
    "sales_all = [sales_wine + sales_Fruits + sales_Meat + sales_Fish + sales_sweet + sales_Gold]"
   ]
  },
  {
   "cell_type": "code",
   "execution_count": 52,
   "id": "ef01efe3",
   "metadata": {},
   "outputs": [
    {
     "name": "stdout",
     "output_type": "stream",
     "text": [
      "[1341276]\n"
     ]
    }
   ],
   "source": [
    "print(sales_all)"
   ]
  },
  {
   "cell_type": "code",
   "execution_count": 53,
   "id": "8acd9d9a",
   "metadata": {},
   "outputs": [],
   "source": [
    "sales_prop_wine = sales_wine / sales_all"
   ]
  },
  {
   "cell_type": "code",
   "execution_count": 54,
   "id": "6d5ddf84",
   "metadata": {},
   "outputs": [
    {
     "name": "stdout",
     "output_type": "stream",
     "text": [
      "[0.5026363]\n"
     ]
    }
   ],
   "source": [
    "print(sales_prop_wine)"
   ]
  },
  {
   "cell_type": "code",
   "execution_count": 55,
   "id": "9ac1f71a",
   "metadata": {},
   "outputs": [
    {
     "name": "stdout",
     "output_type": "stream",
     "text": [
      "[0.04340494]\n"
     ]
    }
   ],
   "source": [
    "sales_prop_Fruits = sales_Fruits / sales_all\n",
    "print(sales_prop_Fruits)"
   ]
  },
  {
   "cell_type": "code",
   "execution_count": 56,
   "id": "bf4d2719",
   "metadata": {},
   "outputs": [
    {
     "name": "stdout",
     "output_type": "stream",
     "text": [
      "[0.27530426]\n"
     ]
    }
   ],
   "source": [
    "sales_prop_Meat = sales_Meat / sales_all\n",
    "print(sales_prop_Meat)"
   ]
  },
  {
   "cell_type": "code",
   "execution_count": 57,
   "id": "54d18286",
   "metadata": {},
   "outputs": [
    {
     "name": "stdout",
     "output_type": "stream",
     "text": [
      "[0.06185379]\n"
     ]
    }
   ],
   "source": [
    "sales_prop_Fish = sales_Fish / sales_all\n",
    "print(sales_prop_Fish)"
   ]
  },
  {
   "cell_type": "code",
   "execution_count": 58,
   "id": "e553edab",
   "metadata": {},
   "outputs": [
    {
     "name": "stdout",
     "output_type": "stream",
     "text": [
      "[0.04459038]\n"
     ]
    }
   ],
   "source": [
    "sales_prop_sweet = sales_sweet / sales_all\n",
    "print(sales_prop_sweet)"
   ]
  },
  {
   "cell_type": "code",
   "execution_count": 59,
   "id": "a1bdbee2",
   "metadata": {},
   "outputs": [
    {
     "name": "stdout",
     "output_type": "stream",
     "text": [
      "[0.07221034]\n"
     ]
    }
   ],
   "source": [
    "sales_prop_Gold = sales_Gold / sales_all\n",
    "print(sales_prop_Gold)"
   ]
  },
  {
   "cell_type": "markdown",
   "id": "0288dfa0",
   "metadata": {},
   "source": [
    "Highest revenue is in the Meat and Wine categories, which were also highly correlated with income level"
   ]
  },
  {
   "cell_type": "code",
   "execution_count": 60,
   "id": "96329bbb",
   "metadata": {},
   "outputs": [
    {
     "data": {
      "text/html": [
       "<div>\n",
       "<style scoped>\n",
       "    .dataframe tbody tr th:only-of-type {\n",
       "        vertical-align: middle;\n",
       "    }\n",
       "\n",
       "    .dataframe tbody tr th {\n",
       "        vertical-align: top;\n",
       "    }\n",
       "\n",
       "    .dataframe thead th {\n",
       "        text-align: right;\n",
       "    }\n",
       "</style>\n",
       "<table border=\"1\" class=\"dataframe\">\n",
       "  <thead>\n",
       "    <tr style=\"text-align: right;\">\n",
       "      <th></th>\n",
       "      <th>ID</th>\n",
       "      <th>Year_Birth</th>\n",
       "      <th>Education</th>\n",
       "      <th>Marital_Status</th>\n",
       "      <th>Income</th>\n",
       "      <th>Kidhome</th>\n",
       "      <th>Teenhome</th>\n",
       "      <th>First_Order_Date</th>\n",
       "      <th>Recency</th>\n",
       "      <th>MntWines</th>\n",
       "      <th>...</th>\n",
       "      <th>NumCatalogPurchases</th>\n",
       "      <th>NumStorePurchases</th>\n",
       "      <th>NumWebVisitsMonth</th>\n",
       "      <th>AcceptedCmp3</th>\n",
       "      <th>AcceptedCmp4</th>\n",
       "      <th>AcceptedCmp5</th>\n",
       "      <th>AcceptedCmp1</th>\n",
       "      <th>AcceptedCmp2</th>\n",
       "      <th>Complain</th>\n",
       "      <th>Response</th>\n",
       "    </tr>\n",
       "  </thead>\n",
       "  <tbody>\n",
       "    <tr>\n",
       "      <th>0</th>\n",
       "      <td>5524</td>\n",
       "      <td>1957</td>\n",
       "      <td>Graduation</td>\n",
       "      <td>Single</td>\n",
       "      <td>58138.0</td>\n",
       "      <td>0</td>\n",
       "      <td>0</td>\n",
       "      <td>2012-04-09</td>\n",
       "      <td>58</td>\n",
       "      <td>635</td>\n",
       "      <td>...</td>\n",
       "      <td>10</td>\n",
       "      <td>4</td>\n",
       "      <td>7</td>\n",
       "      <td>0</td>\n",
       "      <td>0</td>\n",
       "      <td>0</td>\n",
       "      <td>0</td>\n",
       "      <td>0</td>\n",
       "      <td>0</td>\n",
       "      <td>1</td>\n",
       "    </tr>\n",
       "    <tr>\n",
       "      <th>1</th>\n",
       "      <td>2174</td>\n",
       "      <td>1954</td>\n",
       "      <td>Graduation</td>\n",
       "      <td>Single</td>\n",
       "      <td>46344.0</td>\n",
       "      <td>1</td>\n",
       "      <td>1</td>\n",
       "      <td>2014-08-03</td>\n",
       "      <td>38</td>\n",
       "      <td>11</td>\n",
       "      <td>...</td>\n",
       "      <td>1</td>\n",
       "      <td>2</td>\n",
       "      <td>5</td>\n",
       "      <td>0</td>\n",
       "      <td>0</td>\n",
       "      <td>0</td>\n",
       "      <td>0</td>\n",
       "      <td>0</td>\n",
       "      <td>0</td>\n",
       "      <td>0</td>\n",
       "    </tr>\n",
       "    <tr>\n",
       "      <th>2</th>\n",
       "      <td>4141</td>\n",
       "      <td>1965</td>\n",
       "      <td>Graduation</td>\n",
       "      <td>Together</td>\n",
       "      <td>71613.0</td>\n",
       "      <td>0</td>\n",
       "      <td>0</td>\n",
       "      <td>2013-08-21</td>\n",
       "      <td>26</td>\n",
       "      <td>426</td>\n",
       "      <td>...</td>\n",
       "      <td>2</td>\n",
       "      <td>10</td>\n",
       "      <td>4</td>\n",
       "      <td>0</td>\n",
       "      <td>0</td>\n",
       "      <td>0</td>\n",
       "      <td>0</td>\n",
       "      <td>0</td>\n",
       "      <td>0</td>\n",
       "      <td>0</td>\n",
       "    </tr>\n",
       "    <tr>\n",
       "      <th>3</th>\n",
       "      <td>6182</td>\n",
       "      <td>1984</td>\n",
       "      <td>Graduation</td>\n",
       "      <td>Together</td>\n",
       "      <td>26646.0</td>\n",
       "      <td>1</td>\n",
       "      <td>0</td>\n",
       "      <td>2014-10-02</td>\n",
       "      <td>26</td>\n",
       "      <td>11</td>\n",
       "      <td>...</td>\n",
       "      <td>0</td>\n",
       "      <td>4</td>\n",
       "      <td>6</td>\n",
       "      <td>0</td>\n",
       "      <td>0</td>\n",
       "      <td>0</td>\n",
       "      <td>0</td>\n",
       "      <td>0</td>\n",
       "      <td>0</td>\n",
       "      <td>0</td>\n",
       "    </tr>\n",
       "    <tr>\n",
       "      <th>4</th>\n",
       "      <td>5324</td>\n",
       "      <td>1981</td>\n",
       "      <td>PhD</td>\n",
       "      <td>Married</td>\n",
       "      <td>58293.0</td>\n",
       "      <td>1</td>\n",
       "      <td>0</td>\n",
       "      <td>2014-01-19</td>\n",
       "      <td>94</td>\n",
       "      <td>173</td>\n",
       "      <td>...</td>\n",
       "      <td>3</td>\n",
       "      <td>6</td>\n",
       "      <td>5</td>\n",
       "      <td>0</td>\n",
       "      <td>0</td>\n",
       "      <td>0</td>\n",
       "      <td>0</td>\n",
       "      <td>0</td>\n",
       "      <td>0</td>\n",
       "      <td>0</td>\n",
       "    </tr>\n",
       "  </tbody>\n",
       "</table>\n",
       "<p>5 rows × 27 columns</p>\n",
       "</div>"
      ],
      "text/plain": [
       "     ID  Year_Birth   Education Marital_Status   Income  Kidhome  Teenhome  \\\n",
       "0  5524        1957  Graduation         Single  58138.0        0         0   \n",
       "1  2174        1954  Graduation         Single  46344.0        1         1   \n",
       "2  4141        1965  Graduation       Together  71613.0        0         0   \n",
       "3  6182        1984  Graduation       Together  26646.0        1         0   \n",
       "4  5324        1981         PhD        Married  58293.0        1         0   \n",
       "\n",
       "  First_Order_Date  Recency  MntWines  ...  NumCatalogPurchases  \\\n",
       "0       2012-04-09       58       635  ...                   10   \n",
       "1       2014-08-03       38        11  ...                    1   \n",
       "2       2013-08-21       26       426  ...                    2   \n",
       "3       2014-10-02       26        11  ...                    0   \n",
       "4       2014-01-19       94       173  ...                    3   \n",
       "\n",
       "   NumStorePurchases  NumWebVisitsMonth  AcceptedCmp3  AcceptedCmp4  \\\n",
       "0                  4                  7             0             0   \n",
       "1                  2                  5             0             0   \n",
       "2                 10                  4             0             0   \n",
       "3                  4                  6             0             0   \n",
       "4                  6                  5             0             0   \n",
       "\n",
       "   AcceptedCmp5  AcceptedCmp1  AcceptedCmp2  Complain  Response  \n",
       "0             0             0             0         0         1  \n",
       "1             0             0             0         0         0  \n",
       "2             0             0             0         0         0  \n",
       "3             0             0             0         0         0  \n",
       "4             0             0             0         0         0  \n",
       "\n",
       "[5 rows x 27 columns]"
      ]
     },
     "execution_count": 60,
     "metadata": {},
     "output_type": "execute_result"
    }
   ],
   "source": [
    "No_Outliers.head()"
   ]
  },
  {
   "cell_type": "markdown",
   "id": "46151b52",
   "metadata": {},
   "source": [
    "Need to add a calculated column to show age"
   ]
  },
  {
   "cell_type": "code",
   "execution_count": 61,
   "id": "46b82289",
   "metadata": {},
   "outputs": [],
   "source": [
    "No_Outliers['Age'] = 2014 - No_Outliers.Year_Birth"
   ]
  },
  {
   "cell_type": "code",
   "execution_count": 62,
   "id": "0d3c7832",
   "metadata": {},
   "outputs": [
    {
     "data": {
      "text/html": [
       "<div>\n",
       "<style scoped>\n",
       "    .dataframe tbody tr th:only-of-type {\n",
       "        vertical-align: middle;\n",
       "    }\n",
       "\n",
       "    .dataframe tbody tr th {\n",
       "        vertical-align: top;\n",
       "    }\n",
       "\n",
       "    .dataframe thead th {\n",
       "        text-align: right;\n",
       "    }\n",
       "</style>\n",
       "<table border=\"1\" class=\"dataframe\">\n",
       "  <thead>\n",
       "    <tr style=\"text-align: right;\">\n",
       "      <th></th>\n",
       "      <th>ID</th>\n",
       "      <th>Year_Birth</th>\n",
       "      <th>Education</th>\n",
       "      <th>Marital_Status</th>\n",
       "      <th>Income</th>\n",
       "      <th>Kidhome</th>\n",
       "      <th>Teenhome</th>\n",
       "      <th>First_Order_Date</th>\n",
       "      <th>Recency</th>\n",
       "      <th>MntWines</th>\n",
       "      <th>...</th>\n",
       "      <th>NumStorePurchases</th>\n",
       "      <th>NumWebVisitsMonth</th>\n",
       "      <th>AcceptedCmp3</th>\n",
       "      <th>AcceptedCmp4</th>\n",
       "      <th>AcceptedCmp5</th>\n",
       "      <th>AcceptedCmp1</th>\n",
       "      <th>AcceptedCmp2</th>\n",
       "      <th>Complain</th>\n",
       "      <th>Response</th>\n",
       "      <th>Age</th>\n",
       "    </tr>\n",
       "  </thead>\n",
       "  <tbody>\n",
       "    <tr>\n",
       "      <th>0</th>\n",
       "      <td>5524</td>\n",
       "      <td>1957</td>\n",
       "      <td>Graduation</td>\n",
       "      <td>Single</td>\n",
       "      <td>58138.0</td>\n",
       "      <td>0</td>\n",
       "      <td>0</td>\n",
       "      <td>2012-04-09</td>\n",
       "      <td>58</td>\n",
       "      <td>635</td>\n",
       "      <td>...</td>\n",
       "      <td>4</td>\n",
       "      <td>7</td>\n",
       "      <td>0</td>\n",
       "      <td>0</td>\n",
       "      <td>0</td>\n",
       "      <td>0</td>\n",
       "      <td>0</td>\n",
       "      <td>0</td>\n",
       "      <td>1</td>\n",
       "      <td>57</td>\n",
       "    </tr>\n",
       "    <tr>\n",
       "      <th>1</th>\n",
       "      <td>2174</td>\n",
       "      <td>1954</td>\n",
       "      <td>Graduation</td>\n",
       "      <td>Single</td>\n",
       "      <td>46344.0</td>\n",
       "      <td>1</td>\n",
       "      <td>1</td>\n",
       "      <td>2014-08-03</td>\n",
       "      <td>38</td>\n",
       "      <td>11</td>\n",
       "      <td>...</td>\n",
       "      <td>2</td>\n",
       "      <td>5</td>\n",
       "      <td>0</td>\n",
       "      <td>0</td>\n",
       "      <td>0</td>\n",
       "      <td>0</td>\n",
       "      <td>0</td>\n",
       "      <td>0</td>\n",
       "      <td>0</td>\n",
       "      <td>60</td>\n",
       "    </tr>\n",
       "    <tr>\n",
       "      <th>2</th>\n",
       "      <td>4141</td>\n",
       "      <td>1965</td>\n",
       "      <td>Graduation</td>\n",
       "      <td>Together</td>\n",
       "      <td>71613.0</td>\n",
       "      <td>0</td>\n",
       "      <td>0</td>\n",
       "      <td>2013-08-21</td>\n",
       "      <td>26</td>\n",
       "      <td>426</td>\n",
       "      <td>...</td>\n",
       "      <td>10</td>\n",
       "      <td>4</td>\n",
       "      <td>0</td>\n",
       "      <td>0</td>\n",
       "      <td>0</td>\n",
       "      <td>0</td>\n",
       "      <td>0</td>\n",
       "      <td>0</td>\n",
       "      <td>0</td>\n",
       "      <td>49</td>\n",
       "    </tr>\n",
       "    <tr>\n",
       "      <th>3</th>\n",
       "      <td>6182</td>\n",
       "      <td>1984</td>\n",
       "      <td>Graduation</td>\n",
       "      <td>Together</td>\n",
       "      <td>26646.0</td>\n",
       "      <td>1</td>\n",
       "      <td>0</td>\n",
       "      <td>2014-10-02</td>\n",
       "      <td>26</td>\n",
       "      <td>11</td>\n",
       "      <td>...</td>\n",
       "      <td>4</td>\n",
       "      <td>6</td>\n",
       "      <td>0</td>\n",
       "      <td>0</td>\n",
       "      <td>0</td>\n",
       "      <td>0</td>\n",
       "      <td>0</td>\n",
       "      <td>0</td>\n",
       "      <td>0</td>\n",
       "      <td>30</td>\n",
       "    </tr>\n",
       "    <tr>\n",
       "      <th>4</th>\n",
       "      <td>5324</td>\n",
       "      <td>1981</td>\n",
       "      <td>PhD</td>\n",
       "      <td>Married</td>\n",
       "      <td>58293.0</td>\n",
       "      <td>1</td>\n",
       "      <td>0</td>\n",
       "      <td>2014-01-19</td>\n",
       "      <td>94</td>\n",
       "      <td>173</td>\n",
       "      <td>...</td>\n",
       "      <td>6</td>\n",
       "      <td>5</td>\n",
       "      <td>0</td>\n",
       "      <td>0</td>\n",
       "      <td>0</td>\n",
       "      <td>0</td>\n",
       "      <td>0</td>\n",
       "      <td>0</td>\n",
       "      <td>0</td>\n",
       "      <td>33</td>\n",
       "    </tr>\n",
       "  </tbody>\n",
       "</table>\n",
       "<p>5 rows × 28 columns</p>\n",
       "</div>"
      ],
      "text/plain": [
       "     ID  Year_Birth   Education Marital_Status   Income  Kidhome  Teenhome  \\\n",
       "0  5524        1957  Graduation         Single  58138.0        0         0   \n",
       "1  2174        1954  Graduation         Single  46344.0        1         1   \n",
       "2  4141        1965  Graduation       Together  71613.0        0         0   \n",
       "3  6182        1984  Graduation       Together  26646.0        1         0   \n",
       "4  5324        1981         PhD        Married  58293.0        1         0   \n",
       "\n",
       "  First_Order_Date  Recency  MntWines  ...  NumStorePurchases  \\\n",
       "0       2012-04-09       58       635  ...                  4   \n",
       "1       2014-08-03       38        11  ...                  2   \n",
       "2       2013-08-21       26       426  ...                 10   \n",
       "3       2014-10-02       26        11  ...                  4   \n",
       "4       2014-01-19       94       173  ...                  6   \n",
       "\n",
       "   NumWebVisitsMonth  AcceptedCmp3  AcceptedCmp4  AcceptedCmp5  AcceptedCmp1  \\\n",
       "0                  7             0             0             0             0   \n",
       "1                  5             0             0             0             0   \n",
       "2                  4             0             0             0             0   \n",
       "3                  6             0             0             0             0   \n",
       "4                  5             0             0             0             0   \n",
       "\n",
       "   AcceptedCmp2  Complain  Response  Age  \n",
       "0             0         0         1   57  \n",
       "1             0         0         0   60  \n",
       "2             0         0         0   49  \n",
       "3             0         0         0   30  \n",
       "4             0         0         0   33  \n",
       "\n",
       "[5 rows x 28 columns]"
      ]
     },
     "execution_count": 62,
     "metadata": {},
     "output_type": "execute_result"
    }
   ],
   "source": [
    "No_Outliers.head()"
   ]
  },
  {
   "cell_type": "markdown",
   "id": "bc757261",
   "metadata": {},
   "source": [
    "Make sure it's a numeric type"
   ]
  },
  {
   "cell_type": "code",
   "execution_count": 63,
   "id": "b1fe2720",
   "metadata": {},
   "outputs": [],
   "source": [
    "No_Outliers['Age'] =  pd.to_numeric(No_Outliers['Age'])"
   ]
  },
  {
   "cell_type": "code",
   "execution_count": 64,
   "id": "23ef05ff",
   "metadata": {},
   "outputs": [
    {
     "data": {
      "text/plain": [
       "ID                              int64\n",
       "Year_Birth                      int64\n",
       "Education                      object\n",
       "Marital_Status                 object\n",
       "Income                        float64\n",
       "Kidhome                         int64\n",
       "Teenhome                        int64\n",
       "First_Order_Date       datetime64[ns]\n",
       "Recency                         int64\n",
       "MntWines                        int64\n",
       "MntFruits                       int64\n",
       "MntMeatProducts                 int64\n",
       "MntFishProducts                 int64\n",
       "MntSweetProducts                int64\n",
       "MntGoldProds                    int64\n",
       "NumDealsPurchases               int64\n",
       "NumWebPurchases                 int64\n",
       "NumCatalogPurchases             int64\n",
       "NumStorePurchases               int64\n",
       "NumWebVisitsMonth               int64\n",
       "AcceptedCmp3                    int64\n",
       "AcceptedCmp4                    int64\n",
       "AcceptedCmp5                    int64\n",
       "AcceptedCmp1                    int64\n",
       "AcceptedCmp2                    int64\n",
       "Complain                        int64\n",
       "Response                        int64\n",
       "Age                             int64\n",
       "dtype: object"
      ]
     },
     "execution_count": 64,
     "metadata": {},
     "output_type": "execute_result"
    }
   ],
   "source": [
    "No_Outliers.dtypes"
   ]
  },
  {
   "cell_type": "code",
   "execution_count": 65,
   "id": "afbb4980",
   "metadata": {},
   "outputs": [
    {
     "data": {
      "text/plain": [
       "Text(0.5, 1.0, 'Distribution of customers by Age')"
      ]
     },
     "execution_count": 65,
     "metadata": {},
     "output_type": "execute_result"
    },
    {
     "data": {
      "image/png": "[encoded data removed]",
      "text/plain": [
       "<Figure size 432x288 with 1 Axes>"
      ]
     },
     "metadata": {
      "needs_background": "light"
     },
     "output_type": "display_data"
    }
   ],
   "source": [
    "plt.hist(No_Outliers['Age'], bins = 6)\n",
    "plt.xlabel(\"Age\")\n",
    "plt.ylabel(\"# of customers\")\n",
    "plt.title('Distribution of customers by Age')"
   ]
  },
  {
   "cell_type": "markdown",
   "id": "3a6440bc",
   "metadata": {},
   "source": [
    "Examine Total spend and Mean Spend on specific categories by the different attributes to look for trends.  Leaving out 'MntGoldProds' at this point because it's unclear what products are in this category."
   ]
  },
  {
   "cell_type": "code",
   "execution_count": 137,
   "id": "15deb79f",
   "metadata": {},
   "outputs": [
    {
     "data": {
      "text/plain": [
       "Text(0.5, 1.0, 'Total Spend on Wine by Marital Status')"
      ]
     },
     "execution_count": 137,
     "metadata": {},
     "output_type": "execute_result"
    },
    {
     "data": {
      "image/png": "[encoded data removed]",
      "text/plain": [
       "<Figure size 432x288 with 1 Axes>"
      ]
     },
     "metadata": {
      "needs_background": "light"
     },
     "output_type": "display_data"
    }
   ],
   "source": [
    "sns.barplot(\n",
    "    x= 'Marital_Status',\n",
    "    y='MntWines',\n",
    "    data=No_Outliers,\n",
    "    estimator=sum).set_title('Total Spend on Wine by Marital Status')"
   ]
  },
  {
   "cell_type": "code",
   "execution_count": 138,
   "id": "821a8b1a",
   "metadata": {},
   "outputs": [
    {
     "data": {
      "text/plain": [
       "Text(0.5, 1.0, 'Mean Spend per Customer on Wines by Marital Status')"
      ]
     },
     "execution_count": 138,
     "metadata": {},
     "output_type": "execute_result"
    },
    {
     "data": {
      "image/png": "[encoded data removed]",
      "text/plain": [
       "<Figure size 432x288 with 1 Axes>"
      ]
     },
     "metadata": {
      "needs_background": "light"
     },
     "output_type": "display_data"
    }
   ],
   "source": [
    "sns.barplot(\n",
    "    x= 'Marital_Status',\n",
    "    y='MntWines',\n",
    "    data=No_Outliers).set_title('Mean Spend per Customer on Wines by Marital Status')"
   ]
  },
  {
   "cell_type": "code",
   "execution_count": 139,
   "id": "4aaead7d",
   "metadata": {},
   "outputs": [],
   "source": [
    "def msspend(colname):\n",
    "    sns.barplot(\n",
    "    x= 'Marital_Status',\n",
    "    y= colname,\n",
    "    data=No_Outliers,\n",
    "    estimator=sum).set_title(\"Total Spend on \" + colname + \" By Marital Status\")"
   ]
  },
  {
   "cell_type": "code",
   "execution_count": 140,
   "id": "95efc690",
   "metadata": {},
   "outputs": [
    {
     "data": {
      "image/png": "[encoded data removed]",
      "text/plain": [
       "<Figure size 432x288 with 1 Axes>"
      ]
     },
     "metadata": {
      "needs_background": "light"
     },
     "output_type": "display_data"
    }
   ],
   "source": [
    "msspend('MntFruits')"
   ]
  },
  {
   "cell_type": "code",
   "execution_count": 141,
   "id": "2dc181e4",
   "metadata": {},
   "outputs": [],
   "source": [
    "def msmeanspend(colname):\n",
    "    sns.barplot(\n",
    "    x= 'Marital_Status',\n",
    "    y= colname,\n",
    "    data=No_Outliers).set_title(\"Mean Spend per Customer on \" + colname + \" By Marital Status\")"
   ]
  },
  {
   "cell_type": "code",
   "execution_count": 142,
   "id": "854c49df",
   "metadata": {},
   "outputs": [
    {
     "data": {
      "image/png": "[encoded data removed]",
      "text/plain": [
       "<Figure size 432x288 with 1 Axes>"
      ]
     },
     "metadata": {
      "needs_background": "light"
     },
     "output_type": "display_data"
    }
   ],
   "source": [
    "msmeanspend('MntFruits')"
   ]
  },
  {
   "cell_type": "code",
   "execution_count": 143,
   "id": "f37e8950",
   "metadata": {},
   "outputs": [
    {
     "data": {
      "image/png": "[encoded data removed]",
      "text/plain": [
       "<Figure size 432x288 with 1 Axes>"
      ]
     },
     "metadata": {
      "needs_background": "light"
     },
     "output_type": "display_data"
    }
   ],
   "source": [
    "msspend('MntMeatProducts')"
   ]
  },
  {
   "cell_type": "code",
   "execution_count": 144,
   "id": "57f69ae3",
   "metadata": {},
   "outputs": [
    {
     "data": {
      "image/png": "[encoded data removed]",
      "text/plain": [
       "<Figure size 432x288 with 1 Axes>"
      ]
     },
     "metadata": {
      "needs_background": "light"
     },
     "output_type": "display_data"
    }
   ],
   "source": [
    "msmeanspend('MntMeatProducts')"
   ]
  },
  {
   "cell_type": "code",
   "execution_count": 145,
   "id": "643fd620",
   "metadata": {},
   "outputs": [
    {
     "data": {
      "image/png": "[encoded data removed]",
      "text/plain": [
       "<Figure size 432x288 with 1 Axes>"
      ]
     },
     "metadata": {
      "needs_background": "light"
     },
     "output_type": "display_data"
    }
   ],
   "source": [
    "msspend('MntFishProducts')"
   ]
  },
  {
   "cell_type": "code",
   "execution_count": 146,
   "id": "e44448a4",
   "metadata": {},
   "outputs": [
    {
     "data": {
      "image/png": "[encoded data removed]",
      "text/plain": [
       "<Figure size 432x288 with 1 Axes>"
      ]
     },
     "metadata": {
      "needs_background": "light"
     },
     "output_type": "display_data"
    }
   ],
   "source": [
    "msmeanspend('MntFishProducts')"
   ]
  },
  {
   "cell_type": "code",
   "execution_count": 147,
   "id": "01ee5609",
   "metadata": {},
   "outputs": [
    {
     "data": {
      "image/png": "[encoded data removed]",
      "text/plain": [
       "<Figure size 432x288 with 1 Axes>"
      ]
     },
     "metadata": {
      "needs_background": "light"
     },
     "output_type": "display_data"
    }
   ],
   "source": [
    "msspend(\"MntSweetProducts\")"
   ]
  },
  {
   "cell_type": "code",
   "execution_count": 148,
   "id": "3ac94d7b",
   "metadata": {},
   "outputs": [
    {
     "data": {
      "image/png": "[encoded data removed]",
      "text/plain": [
       "<Figure size 432x288 with 1 Axes>"
      ]
     },
     "metadata": {
      "needs_background": "light"
     },
     "output_type": "display_data"
    }
   ],
   "source": [
    "msmeanspend('MntSweetProducts')"
   ]
  },
  {
   "cell_type": "code",
   "execution_count": 149,
   "id": "53c714f7",
   "metadata": {},
   "outputs": [],
   "source": [
    "def kidmeanspend(colname):\n",
    "    sns.barplot(\n",
    "    x= 'Kidhome',\n",
    "    y= colname,\n",
    "    data=No_Outliers).set_title(\"Mean Spend per Customer on \" + colname + \" By # Kids at home\")"
   ]
  },
  {
   "cell_type": "code",
   "execution_count": 150,
   "id": "086c0378",
   "metadata": {},
   "outputs": [
    {
     "data": {
      "image/png": "[encoded data removed]",
      "text/plain": [
       "<Figure size 432x288 with 1 Axes>"
      ]
     },
     "metadata": {
      "needs_background": "light"
     },
     "output_type": "display_data"
    }
   ],
   "source": [
    "kidmeanspend('MntWines')"
   ]
  },
  {
   "cell_type": "code",
   "execution_count": 151,
   "id": "2e2cab45",
   "metadata": {},
   "outputs": [
    {
     "data": {
      "text/plain": [
       "Text(0.5, 1.0, 'Total Spend on Wine by # of Kids at Home')"
      ]
     },
     "execution_count": 151,
     "metadata": {},
     "output_type": "execute_result"
    },
    {
     "data": {
      "image/png": "[encoded data removed]",
      "text/plain": [
       "<Figure size 432x288 with 1 Axes>"
      ]
     },
     "metadata": {
      "needs_background": "light"
     },
     "output_type": "display_data"
    }
   ],
   "source": [
    "sns.barplot(\n",
    "    x= 'Kidhome',\n",
    "    y='MntWines',\n",
    "    data=No_Outliers,\n",
    "    estimator=sum).set_title('Total Spend on Wine by # of Kids at Home')"
   ]
  },
  {
   "cell_type": "markdown",
   "id": "461d7841",
   "metadata": {},
   "source": [
    "Looking just at mean spend as that is more informative"
   ]
  },
  {
   "cell_type": "code",
   "execution_count": 152,
   "id": "49da3a0a",
   "metadata": {},
   "outputs": [
    {
     "data": {
      "image/png": "[encoded data removed]",
      "text/plain": [
       "<Figure size 432x288 with 1 Axes>"
      ]
     },
     "metadata": {
      "needs_background": "light"
     },
     "output_type": "display_data"
    }
   ],
   "source": [
    "kidmeanspend('MntFruits')"
   ]
  },
  {
   "cell_type": "code",
   "execution_count": 153,
   "id": "1cf6daf3",
   "metadata": {},
   "outputs": [
    {
     "data": {
      "image/png": "[encoded data removed]",
      "text/plain": [
       "<Figure size 432x288 with 1 Axes>"
      ]
     },
     "metadata": {
      "needs_background": "light"
     },
     "output_type": "display_data"
    }
   ],
   "source": [
    "kidmeanspend('MntMeatProducts')"
   ]
  },
  {
   "cell_type": "code",
   "execution_count": 154,
   "id": "48ad2ac4",
   "metadata": {},
   "outputs": [
    {
     "data": {
      "image/png": "[encoded data removed]",
      "text/plain": [
       "<Figure size 432x288 with 1 Axes>"
      ]
     },
     "metadata": {
      "needs_background": "light"
     },
     "output_type": "display_data"
    }
   ],
   "source": [
    "kidmeanspend('MntFishProducts')"
   ]
  },
  {
   "cell_type": "code",
   "execution_count": 155,
   "id": "48df1d5c",
   "metadata": {},
   "outputs": [
    {
     "data": {
      "image/png": "[encoded data removed]",
      "text/plain": [
       "<Figure size 432x288 with 1 Axes>"
      ]
     },
     "metadata": {
      "needs_background": "light"
     },
     "output_type": "display_data"
    }
   ],
   "source": [
    "kidmeanspend('MntSweetProducts')"
   ]
  },
  {
   "cell_type": "code",
   "execution_count": 156,
   "id": "a21f702b",
   "metadata": {},
   "outputs": [
    {
     "data": {
      "text/plain": [
       "Text(0.5, 1.0, 'Total Spend on Wine by # of Teens at Home')"
      ]
     },
     "execution_count": 156,
     "metadata": {},
     "output_type": "execute_result"
    },
    {
     "data": {
      "image/png": "[encoded data removed]",
      "text/plain": [
       "<Figure size 432x288 with 1 Axes>"
      ]
     },
     "metadata": {
      "needs_background": "light"
     },
     "output_type": "display_data"
    }
   ],
   "source": [
    "sns.barplot(\n",
    "    x= 'Teenhome',\n",
    "    y='MntWines',\n",
    "    data=No_Outliers,\n",
    "    estimator=sum).set_title('Total Spend on Wine by # of Teens at Home')"
   ]
  },
  {
   "cell_type": "code",
   "execution_count": 157,
   "id": "22930ae6",
   "metadata": {},
   "outputs": [
    {
     "data": {
      "text/plain": [
       "Text(0.5, 1.0, 'Mean Spend on Wine by # of Teens at Home')"
      ]
     },
     "execution_count": 157,
     "metadata": {},
     "output_type": "execute_result"
    },
    {
     "data": {
      "image/png": "[encoded data removed]",
      "text/plain": [
       "<Figure size 432x288 with 1 Axes>"
      ]
     },
     "metadata": {
      "needs_background": "light"
     },
     "output_type": "display_data"
    }
   ],
   "source": [
    "sns.barplot(\n",
    "    x= 'Teenhome',\n",
    "    y='MntWines',\n",
    "    data=No_Outliers,).set_title('Mean Spend on Wine by # of Teens at Home')"
   ]
  },
  {
   "cell_type": "code",
   "execution_count": 158,
   "id": "2930e0bb",
   "metadata": {},
   "outputs": [
    {
     "data": {
      "text/plain": [
       "Text(0.5, 1.0, 'Mean Spend on Fruit by # of Teens at Home')"
      ]
     },
     "execution_count": 158,
     "metadata": {},
     "output_type": "execute_result"
    },
    {
     "data": {
      "image/png": "[encoded data removed]",
      "text/plain": [
       "<Figure size 432x288 with 1 Axes>"
      ]
     },
     "metadata": {
      "needs_background": "light"
     },
     "output_type": "display_data"
    }
   ],
   "source": [
    "sns.barplot(\n",
    "    x= 'Teenhome',\n",
    "    y='MntFruits',\n",
    "    data=No_Outliers).set_title('Mean Spend on Fruit by # of Teens at Home')"
   ]
  },
  {
   "cell_type": "code",
   "execution_count": 159,
   "id": "cd42917a",
   "metadata": {},
   "outputs": [
    {
     "data": {
      "text/plain": [
       "Text(0.5, 1.0, 'Mean Spend on Meat by # of Teens at Home')"
      ]
     },
     "execution_count": 159,
     "metadata": {},
     "output_type": "execute_result"
    },
    {
     "data": {
      "image/png": "[encoded data removed]",
      "text/plain": [
       "<Figure size 432x288 with 1 Axes>"
      ]
     },
     "metadata": {
      "needs_background": "light"
     },
     "output_type": "display_data"
    }
   ],
   "source": [
    "sns.barplot(\n",
    "    x= 'Teenhome',\n",
    "    y='MntMeatProducts',\n",
    "    data=No_Outliers).set_title('Mean Spend on Meat by # of Teens at Home')"
   ]
  },
  {
   "cell_type": "code",
   "execution_count": 160,
   "id": "7baa6e62",
   "metadata": {},
   "outputs": [
    {
     "data": {
      "text/plain": [
       "Text(0.5, 1.0, 'Mean Spend on Sweets by # of Teens at Home')"
      ]
     },
     "execution_count": 160,
     "metadata": {},
     "output_type": "execute_result"
    },
    {
     "data": {
      "image/png": "[encoded data removed]",
      "text/plain": [
       "<Figure size 432x288 with 1 Axes>"
      ]
     },
     "metadata": {
      "needs_background": "light"
     },
     "output_type": "display_data"
    }
   ],
   "source": [
    "sns.barplot(\n",
    "    x= 'Teenhome',\n",
    "    y='MntSweetProducts',\n",
    "    data=No_Outliers).set_title('Mean Spend on Sweets by # of Teens at Home')"
   ]
  },
  {
   "cell_type": "code",
   "execution_count": 161,
   "id": "84bd2a14",
   "metadata": {},
   "outputs": [
    {
     "data": {
      "text/plain": [
       "Text(0.5, 1.0, 'Mean Spend on Fish by # of Teens at Home')"
      ]
     },
     "execution_count": 161,
     "metadata": {},
     "output_type": "execute_result"
    },
    {
     "data": {
      "image/png": "[encoded data removed]",
      "text/plain": [
       "<Figure size 432x288 with 1 Axes>"
      ]
     },
     "metadata": {
      "needs_background": "light"
     },
     "output_type": "display_data"
    }
   ],
   "source": [
    "sns.barplot(\n",
    "    x= 'Teenhome',\n",
    "    y='MntFishProducts',\n",
    "    data=No_Outliers).set_title('Mean Spend on Fish by # of Teens at Home')"
   ]
  },
  {
   "cell_type": "code",
   "execution_count": 162,
   "id": "60c45274",
   "metadata": {},
   "outputs": [
    {
     "data": {
      "text/plain": [
       "Text(0.5, 1.0, 'Total Spend on Wine by Education Level')"
      ]
     },
     "execution_count": 162,
     "metadata": {},
     "output_type": "execute_result"
    },
    {
     "data": {
      "image/png": "[encoded data removed]",
      "text/plain": [
       "<Figure size 432x288 with 1 Axes>"
      ]
     },
     "metadata": {
      "needs_background": "light"
     },
     "output_type": "display_data"
    }
   ],
   "source": [
    "sns.barplot(\n",
    "    x= 'Education',\n",
    "    y='MntWines',\n",
    "    data=No_Outliers,\n",
    "    estimator=sum).set_title('Total Spend on Wine by Education Level')"
   ]
  },
  {
   "cell_type": "code",
   "execution_count": 163,
   "id": "4749baa7",
   "metadata": {},
   "outputs": [
    {
     "data": {
      "text/plain": [
       "Text(0.5, 1.0, 'Mean Spend on Wine by Education Level')"
      ]
     },
     "execution_count": 163,
     "metadata": {},
     "output_type": "execute_result"
    },
    {
     "data": {
      "image/png": "[encoded data removed]",
      "text/plain": [
       "<Figure size 432x288 with 1 Axes>"
      ]
     },
     "metadata": {
      "needs_background": "light"
     },
     "output_type": "display_data"
    }
   ],
   "source": [
    "sns.barplot(\n",
    "    x= 'Education',\n",
    "    y='MntWines',\n",
    "    data=No_Outliers).set_title('Mean Spend on Wine by Education Level')"
   ]
  },
  {
   "cell_type": "code",
   "execution_count": 164,
   "id": "7fe20d2a",
   "metadata": {},
   "outputs": [
    {
     "data": {
      "text/plain": [
       "Text(0.5, 1.0, 'Mean Spend on Fruit by Education Level')"
      ]
     },
     "execution_count": 164,
     "metadata": {},
     "output_type": "execute_result"
    },
    {
     "data": {
      "image/png": "[encoded data removed]",
      "text/plain": [
       "<Figure size 432x288 with 1 Axes>"
      ]
     },
     "metadata": {
      "needs_background": "light"
     },
     "output_type": "display_data"
    }
   ],
   "source": [
    "sns.barplot(\n",
    "    x= 'Education',\n",
    "    y='MntFruits',\n",
    "    data=No_Outliers).set_title('Mean Spend on Fruit by Education Level')"
   ]
  },
  {
   "cell_type": "code",
   "execution_count": 165,
   "id": "2fad3201",
   "metadata": {},
   "outputs": [
    {
     "data": {
      "text/plain": [
       "Text(0.5, 1.0, 'Mean Spend on Meat by Education Level')"
      ]
     },
     "execution_count": 165,
     "metadata": {},
     "output_type": "execute_result"
    },
    {
     "data": {
      "image/png": "[encoded data removed]",
      "text/plain": [
       "<Figure size 432x288 with 1 Axes>"
      ]
     },
     "metadata": {
      "needs_background": "light"
     },
     "output_type": "display_data"
    }
   ],
   "source": [
    "sns.barplot(\n",
    "    x= 'Education',\n",
    "    y='MntMeatProducts',\n",
    "    data=No_Outliers).set_title('Mean Spend on Meat by Education Level')"
   ]
  },
  {
   "cell_type": "code",
   "execution_count": 166,
   "id": "3f0621ce",
   "metadata": {},
   "outputs": [
    {
     "data": {
      "text/plain": [
       "Text(0.5, 1.0, 'Mean Spend on Fish by Education Level')"
      ]
     },
     "execution_count": 166,
     "metadata": {},
     "output_type": "execute_result"
    },
    {
     "data": {
      "image/png": "[encoded data removed]",
      "text/plain": [
       "<Figure size 432x288 with 1 Axes>"
      ]
     },
     "metadata": {
      "needs_background": "light"
     },
     "output_type": "display_data"
    }
   ],
   "source": [
    "sns.barplot(\n",
    "    x= 'Education',\n",
    "    y='MntFishProducts',\n",
    "    data=No_Outliers).set_title('Mean Spend on Fish by Education Level')"
   ]
  },
  {
   "cell_type": "code",
   "execution_count": 167,
   "id": "c5679510",
   "metadata": {},
   "outputs": [
    {
     "data": {
      "text/plain": [
       "Text(0.5, 1.0, 'Mean Spend on Sweets by Education Level')"
      ]
     },
     "execution_count": 167,
     "metadata": {},
     "output_type": "execute_result"
    },
    {
     "data": {
      "image/png": "[encoded data removed]",
      "text/plain": [
       "<Figure size 432x288 with 1 Axes>"
      ]
     },
     "metadata": {
      "needs_background": "light"
     },
     "output_type": "display_data"
    }
   ],
   "source": [
    "sns.barplot(\n",
    "    x= 'Education',\n",
    "    y='MntSweetProducts',\n",
    "    data=No_Outliers).set_title('Mean Spend on Sweets by Education Level')"
   ]
  },
  {
   "cell_type": "code",
   "execution_count": 168,
   "id": "ada842de",
   "metadata": {},
   "outputs": [
    {
     "data": {
      "image/png": "[encoded data removed]",
      "text/plain": [
       "<Figure size 432x288 with 1 Axes>"
      ]
     },
     "metadata": {
      "needs_background": "light"
     },
     "output_type": "display_data"
    }
   ],
   "source": [
    "_=sns.scatterplot(\n",
    "    x= 'Income',\n",
    "    y='MntWines',\n",
    "        data=No_Outliers).set_title('Wine Spend by Income Level')\n",
    "_=plt.ylabel('Wine Spend')\n",
    "plt.show()"
   ]
  },
  {
   "cell_type": "code",
   "execution_count": 169,
   "id": "4e06d1f6",
   "metadata": {},
   "outputs": [
    {
     "data": {
      "image/png": "[encoded data removed]",
      "text/plain": [
       "<Figure size 432x288 with 1 Axes>"
      ]
     },
     "metadata": {
      "needs_background": "light"
     },
     "output_type": "display_data"
    }
   ],
   "source": [
    "_=sns.scatterplot(\n",
    "    x= 'Income',\n",
    "    y='MntFruits',\n",
    "        data=No_Outliers).set_title('Fruit Spend by Income Level')\n",
    "_=plt.ylabel('Fruit Spend')\n",
    "plt.show()"
   ]
  },
  {
   "cell_type": "markdown",
   "id": "be2c0d9c",
   "metadata": {},
   "source": [
    "Create a new data frame that is filtered by income level"
   ]
  },
  {
   "cell_type": "code",
   "execution_count": 170,
   "id": "70e91a62",
   "metadata": {},
   "outputs": [],
   "source": [
    "dflowincome = No_Outliers[No_Outliers['Income'] < 30000]"
   ]
  },
  {
   "cell_type": "code",
   "execution_count": 171,
   "id": "8aa82191",
   "metadata": {},
   "outputs": [
    {
     "name": "stdout",
     "output_type": "stream",
     "text": [
      "         ID  Year_Birth   Education Marital_Status   Income  Kidhome  \\\n",
      "3      6182        1984  Graduation       Together  26646.0        1   \n",
      "9      5899        1950         PhD       Together   5648.0        1   \n",
      "11      387        1976       Basic        Married   7500.0        0   \n",
      "14     2569        1987  Graduation        Married  17323.0        0   \n",
      "21     5376        1979  Graduation        Married   2447.0        1   \n",
      "...     ...         ...         ...            ...      ...      ...   \n",
      "2218   4838        1978  Graduation       Together  22775.0        1   \n",
      "2222  10659        1979    2n Cycle       Together   7500.0        1   \n",
      "2229  10084        1972  Graduation        Married  24434.0        2   \n",
      "2230   7004        1984  Graduation         Single  11012.0        1   \n",
      "2232   8080        1986  Graduation         Single  26816.0        0   \n",
      "\n",
      "      Teenhome First_Order_Date  Recency  MntWines  ...  NumStorePurchases  \\\n",
      "3            0       2014-10-02       26        11  ...                  4   \n",
      "9            1       2014-03-13       68        28  ...                  0   \n",
      "11           0       2012-11-13       59         6  ...                  3   \n",
      "14           0       2012-10-10       38         3  ...                  3   \n",
      "21           0       2013-06-01       42         1  ...                  0   \n",
      "...        ...              ...      ...       ...  ...                ...   \n",
      "2218         0       2013-06-19       40         5  ...                  2   \n",
      "2222         0       2013-07-05        7         2  ...                  2   \n",
      "2229         0       2014-05-18        9         3  ...                  2   \n",
      "2230         0       2013-03-16       82        24  ...                  2   \n",
      "2232         0       2012-08-17       50         5  ...                  3   \n",
      "\n",
      "      NumWebVisitsMonth  AcceptedCmp3  AcceptedCmp4  AcceptedCmp5  \\\n",
      "3                     6             0             0             0   \n",
      "9                    20             1             0             0   \n",
      "11                    8             0             0             0   \n",
      "14                    8             0             0             0   \n",
      "21                    1             0             0             0   \n",
      "...                 ...           ...           ...           ...   \n",
      "2218                  8             0             0             0   \n",
      "2222                  7             0             0             0   \n",
      "2229                  7             0             0             0   \n",
      "2230                  9             1             0             0   \n",
      "2232                  4             0             0             0   \n",
      "\n",
      "      AcceptedCmp1  AcceptedCmp2  Complain  Response  Age  \n",
      "3                0             0         0         0   30  \n",
      "9                0             0         0         0   64  \n",
      "11               0             0         0         0   38  \n",
      "14               0             0         0         0   27  \n",
      "21               0             0         0         0   35  \n",
      "...            ...           ...       ...       ...  ...  \n",
      "2218             0             0         0         0   36  \n",
      "2222             0             0         0         0   35  \n",
      "2229             0             0         0         0   42  \n",
      "2230             0             0         0         0   30  \n",
      "2232             0             0         0         0   28  \n",
      "\n",
      "[370 rows x 28 columns]\n"
     ]
    }
   ],
   "source": [
    "print(dflowincome)"
   ]
  },
  {
   "cell_type": "code",
   "execution_count": 172,
   "id": "8263d6f6",
   "metadata": {},
   "outputs": [],
   "source": [
    "def saleslowinc(colname):\n",
    "    print(dflowincome[colname].sum())"
   ]
  },
  {
   "cell_type": "code",
   "execution_count": 173,
   "id": "f7482f81",
   "metadata": {},
   "outputs": [
    {
     "name": "stdout",
     "output_type": "stream",
     "text": [
      "5099\n"
     ]
    }
   ],
   "source": [
    "saleslowinc('MntWines')"
   ]
  },
  {
   "cell_type": "code",
   "execution_count": 174,
   "id": "4a4a0563",
   "metadata": {},
   "outputs": [
    {
     "name": "stdout",
     "output_type": "stream",
     "text": [
      "2126\n"
     ]
    }
   ],
   "source": [
    "saleslowinc('MntFruits')"
   ]
  },
  {
   "cell_type": "code",
   "execution_count": 175,
   "id": "a1b07059",
   "metadata": {},
   "outputs": [
    {
     "name": "stdout",
     "output_type": "stream",
     "text": [
      "7941\n"
     ]
    }
   ],
   "source": [
    "saleslowinc('MntMeatProducts')"
   ]
  },
  {
   "cell_type": "code",
   "execution_count": 176,
   "id": "87b22685",
   "metadata": {},
   "outputs": [
    {
     "name": "stdout",
     "output_type": "stream",
     "text": [
      "2964\n"
     ]
    }
   ],
   "source": [
    "saleslowinc('MntFishProducts')"
   ]
  },
  {
   "cell_type": "code",
   "execution_count": 177,
   "id": "d12088be",
   "metadata": {},
   "outputs": [
    {
     "name": "stdout",
     "output_type": "stream",
     "text": [
      "2290\n"
     ]
    }
   ],
   "source": [
    "saleslowinc('MntSweetProducts')"
   ]
  },
  {
   "cell_type": "code",
   "execution_count": 178,
   "id": "a5de6752",
   "metadata": {},
   "outputs": [
    {
     "name": "stdout",
     "output_type": "stream",
     "text": [
      "6288\n"
     ]
    }
   ],
   "source": [
    "saleslowinc('MntGoldProds')"
   ]
  },
  {
   "cell_type": "code",
   "execution_count": 179,
   "id": "8b256465",
   "metadata": {},
   "outputs": [],
   "source": [
    "def meansaleslowinc(colname):\n",
    "    print(dflowincome[colname].mean())"
   ]
  },
  {
   "cell_type": "code",
   "execution_count": 180,
   "id": "bdb2ffa5",
   "metadata": {},
   "outputs": [
    {
     "name": "stdout",
     "output_type": "stream",
     "text": [
      "13.781081081081082\n"
     ]
    }
   ],
   "source": [
    "meansaleslowinc('MntWines')"
   ]
  },
  {
   "cell_type": "code",
   "execution_count": 181,
   "id": "271d8328",
   "metadata": {},
   "outputs": [
    {
     "name": "stdout",
     "output_type": "stream",
     "text": [
      "5.745945945945946\n"
     ]
    }
   ],
   "source": [
    "meansaleslowinc('MntFruits')"
   ]
  },
  {
   "cell_type": "code",
   "execution_count": 182,
   "id": "e5433cef",
   "metadata": {},
   "outputs": [
    {
     "name": "stdout",
     "output_type": "stream",
     "text": [
      "21.462162162162162\n"
     ]
    }
   ],
   "source": [
    "meansaleslowinc('MntMeatProducts')"
   ]
  },
  {
   "cell_type": "code",
   "execution_count": 183,
   "id": "96adefd2",
   "metadata": {},
   "outputs": [
    {
     "name": "stdout",
     "output_type": "stream",
     "text": [
      "8.010810810810812\n"
     ]
    }
   ],
   "source": [
    "meansaleslowinc('MntFishProducts')"
   ]
  },
  {
   "cell_type": "code",
   "execution_count": 184,
   "id": "cec5d93c",
   "metadata": {},
   "outputs": [
    {
     "name": "stdout",
     "output_type": "stream",
     "text": [
      "6.1891891891891895\n"
     ]
    }
   ],
   "source": [
    "meansaleslowinc('MntSweetProducts')"
   ]
  },
  {
   "cell_type": "code",
   "execution_count": 185,
   "id": "d5349d31",
   "metadata": {},
   "outputs": [],
   "source": [
    "No_Outliers.to_csv(r'C:\\Users\\admin\\Documents\\Springboard\\Capstone 2 Dataset modified.csv', index = False)"
   ]
  },
  {
   "cell_type": "markdown",
   "id": "d21bc3d7",
   "metadata": {},
   "source": [
    "# Conclusions, limitations, assumptions"
   ]
  },
  {
   "cell_type": "markdown",
   "id": "cc242f38",
   "metadata": {},
   "source": [
    "The data shows that:  \n",
    "Income is highly correlated with money spent on wine and meat  \n",
    "The highest spend categories are wine and meat, then gold, fish, sweets and fruits  \n",
    "    - limitation: to be expected assuming the higher cost of meat and wine products; customers could be classified as frequent buyers and non-frequent as well as current vs old to see if the data varies there.  \n",
    "\n",
    "Customer distributions within the data:  \n",
    "  \n",
    "Education - the majority of customers have college or above education level  \n",
    "Marital Status - the highest number of customers are married, and the lowest are widow  \n",
    "Income - after removing 8 outliers, mean 54,628; median 51,311;  income is fairly normally distributed among the customers  \n",
    "  \n",
    "Wine Spend vs. Marital Status  \n",
    "Married customers tend to spend more on wine than other marital statuses when looking at total spend, but highest mean spend is with widows, with a relatively large standard deviation, which indicates a fairly skewed data set.  Other product categories show similar distribution (with the exception of meat showing a higher spend among singles).  \n",
    "Recommend further analysis within each attribute and product category.  \n",
    "\n",
    "Customers with no kids or teens in the home tend to spend more in all categories with the exception of wine when looking at mean spend; customers with two kids at home have a higher mean spend than customers with 1 or no kids at home.  \n",
    "Limitations - higher standard deviation in some areas indicates skewed data.  Recommend further analysis within each attribute and product category.  \n",
    "\n",
    "Mean amount spent on sweets is similar across most attributes with the exception of education, where the data show a higher mean spend among customers with only a high school education.  The same is true for mean spend on fruit and fish.  \n",
    "\n",
    "Higher educated customers tend to spend more on wine than other customers.  \n",
    "\n",
    "Within the low income category (as defined by customers with an income less than $30,000), the highest mean spend is on meat products, followed by wine and fish.  \n",
    "\n",
    "Assumptions:  data is indicative of buying trends for the customers in this store during this two year period.  Sales period is over two years, and analysis was the same for all customers regardless of how often they ordered, or how long they were a customer, which could affect the outcome.  Data also assumes customers buy all the categories from this store - some customers may only shop this store for specific categories which could skew the data.\n",
    "\n",
    "Limitation:  Location of the business (economic factors) is not known, as well as hours of operation and overall product selection which could skew the data."
   ]
  },
  {
   "cell_type": "code",
   "execution_count": null,
   "id": "bd5756fb",
   "metadata": {},
   "outputs": [],
   "source": []
  }
 ],
 "metadata": {
  "kernelspec": {
   "display_name": "Python 3 (ipykernel)",
   "language": "python",
   "name": "python3"
  },
  "language_info": {
   "codemirror_mode": {
    "name": "ipython",
    "version": 3
   },
   "file_extension": ".py",
   "mimetype": "text/x-python",
   "name": "python",
   "nbconvert_exporter": "python",
   "pygments_lexer": "ipython3",
   "version": "3.9.7"
  }
 },
 "nbformat": 4,
 "nbformat_minor": 5
}
